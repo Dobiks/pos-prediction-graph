{
 "cells": [
  {
   "cell_type": "code",
   "execution_count": 470,
   "metadata": {},
   "outputs": [],
   "source": [
    "import networkx as nx\n",
    "from graph_utils import plot_graph\n",
    "import numpy as np\n",
    "import pandas as pd\n",
    "from gurobipy import GRB, Model"
   ]
  },
  {
   "cell_type": "code",
   "execution_count": 471,
   "metadata": {},
   "outputs": [],
   "source": [
    "static = pd.read_csv('static_with_t.csv')\n",
    "detected = pd.read_csv('randomized_graph.csv')"
   ]
  },
  {
   "cell_type": "code",
   "execution_count": 472,
   "metadata": {},
   "outputs": [],
   "source": [
    "node_name = 'conn_f_30'"
   ]
  },
  {
   "cell_type": "code",
   "execution_count": 473,
   "metadata": {},
   "outputs": [],
   "source": [
    "def calculate_distance_to_root(name):\n",
    "    static = pd.read_csv('static_with_t.csv')\n",
    "\n",
    "    if name == 'root':\n",
    "        return 0\n",
    "\n",
    "    parent_name = static.loc[static['name'] == name, 'parent'].values[0]\n",
    "    distance_to_parent = static.loc[static['name'] == name, 'distance_to_parent'].values[0]\n",
    "    \n",
    "    return distance_to_parent + calculate_distance_to_root(parent_name)\n",
    "    "
   ]
  },
  {
   "cell_type": "code",
   "execution_count": 474,
   "metadata": {},
   "outputs": [
    {
     "data": {
      "text/plain": [
       "95"
      ]
     },
     "execution_count": 474,
     "metadata": {},
     "output_type": "execute_result"
    }
   ],
   "source": [
    "calculate_distance_to_root(node_name)"
   ]
  },
  {
   "cell_type": "code",
   "execution_count": 475,
   "metadata": {},
   "outputs": [
    {
     "data": {
      "text/plain": [
       "{'name': 'conn_f_30',\n",
       " 'number': 30,\n",
       " 'x': 12.0,\n",
       " 'y': -86.0,\n",
       " 'z': 0.0,\n",
       " 'parent': 'cross_f30',\n",
       " 'distance_to_parent': 39}"
      ]
     },
     "execution_count": 475,
     "metadata": {},
     "output_type": "execute_result"
    }
   ],
   "source": [
    "static_node = static[static['name'] == node_name].to_dict('records')[0]\n",
    "static_node"
   ]
  },
  {
   "cell_type": "code",
   "execution_count": 476,
   "metadata": {},
   "outputs": [
    {
     "data": {
      "text/plain": [
       "{'name': 'conn_f_30',\n",
       " 'number': 30,\n",
       " 'x': 11.28,\n",
       " 'y': -86.0,\n",
       " 'z': -4.1,\n",
       " 'parent': 'cross_f30'}"
      ]
     },
     "execution_count": 476,
     "metadata": {},
     "output_type": "execute_result"
    }
   ],
   "source": [
    "detected_node = detected[detected['name'] == node_name].to_dict('records')[0]\n",
    "detected_node"
   ]
  },
  {
   "cell_type": "code",
   "execution_count": 477,
   "metadata": {},
   "outputs": [
    {
     "data": {
      "text/plain": [
       "{'name': 'cross_f30',\n",
       " 'number': -1,\n",
       " 'x': -2.82,\n",
       " 'y': -50.0,\n",
       " 'z': 1.03,\n",
       " 'parent': 'cross_f'}"
      ]
     },
     "execution_count": 477,
     "metadata": {},
     "output_type": "execute_result"
    }
   ],
   "source": [
    "detected_parent = detected[detected['name'] == static_node['parent']].to_dict('records')[0]\n",
    "detected_parent\n"
   ]
  },
  {
   "cell_type": "code",
   "execution_count": 478,
   "metadata": {},
   "outputs": [],
   "source": [
    "parent_x = detected_parent[\"x\"]\n",
    "parent_y = detected_parent[\"y\"]\n",
    "parent_z = detected_parent[\"z\"]\n",
    "\n",
    "detected_x = detected_node[\"x\"]\n",
    "detected_y = detected_node[\"y\"]\n",
    "detected_z = detected_node[\"z\"]\n",
    "\n",
    "distance_to_parent = static_node[\"distance_to_parent\"]"
   ]
  },
  {
   "cell_type": "code",
   "execution_count": 479,
   "metadata": {},
   "outputs": [],
   "source": [
    "quadratic_model = Model('quadratic')"
   ]
  },
  {
   "cell_type": "code",
   "execution_count": 480,
   "metadata": {},
   "outputs": [
    {
     "name": "stdout",
     "output_type": "stream",
     "text": [
      "detected_x: 11.28, detected_y: -86.0, detected_z: -4.1\n",
      "parent_x: -2.82, parent_y: -50.0, parent_z: 1.03\n",
      "detected_x_rel: 14.1, detected_y_rel: -36.0, detected_z_rel: -5.13\n"
     ]
    }
   ],
   "source": [
    "detected_x_rel = detected_x - parent_x\n",
    "detected_y_rel = detected_y - parent_y\n",
    "detected_z_rel = detected_z - parent_z\n",
    "\n",
    "print(f\"detected_x: {detected_x}, detected_y: {detected_y}, detected_z: {detected_z}\")\n",
    "print(f\"parent_x: {parent_x}, parent_y: {parent_y}, parent_z: {parent_z}\")\n",
    "print(f\"detected_x_rel: {detected_x_rel}, detected_y_rel: {detected_y_rel}, detected_z_rel: {detected_z_rel}\")"
   ]
  },
  {
   "cell_type": "code",
   "execution_count": 481,
   "metadata": {},
   "outputs": [
    {
     "data": {
      "text/plain": [
       "array([ 1., -1., -1.])"
      ]
     },
     "execution_count": 481,
     "metadata": {},
     "output_type": "execute_result"
    }
   ],
   "source": [
    "sign_matrix = np.sign(np.array([detected_x_rel, detected_y_rel, detected_z_rel]))\n",
    "sign_matrix"
   ]
  },
  {
   "cell_type": "code",
   "execution_count": 483,
   "metadata": {},
   "outputs": [],
   "source": [
    "x = quadratic_model.addVar(name = 'x', vtype=GRB.CONTINUOUS, lb=-250, ub=250)\n",
    "y = quadratic_model.addVar(name = 'y', vtype=GRB.CONTINUOUS, lb=-250, ub=250)\n",
    "z = quadratic_model.addVar(name = 'z', vtype=GRB.CONTINUOUS, lb=-250, ub=250)\n",
    "#wartosci poczatkowe rowne obserwacji"
   ]
  },
  {
   "cell_type": "code",
   "execution_count": 485,
   "metadata": {},
   "outputs": [
    {
     "data": {
      "text/plain": [
       "<gurobi.QConstr Not Yet Added>"
      ]
     },
     "execution_count": 485,
     "metadata": {},
     "output_type": "execute_result"
    }
   ],
   "source": [
    "quadratic_model.addQConstr(\n",
    "    x**2 + y**2 + z**2 <= distance_to_parent**2)"
   ]
  },
  {
   "cell_type": "code",
   "execution_count": 486,
   "metadata": {},
   "outputs": [],
   "source": [
    "obj_fn = (\n",
    "    (x + parent_x - detected_x) ** 2\n",
    "    + (y + parent_y - detected_y) ** 2\n",
    "    + (z + parent_z - detected_z) ** 2\n",
    ")\n",
    "# x + parent"
   ]
  },
  {
   "cell_type": "code",
   "execution_count": 487,
   "metadata": {},
   "outputs": [],
   "source": [
    "quadratic_model.setObjective(obj_fn, GRB.MINIMIZE)"
   ]
  },
  {
   "cell_type": "code",
   "execution_count": 488,
   "metadata": {},
   "outputs": [],
   "source": [
    "# quadratic_model.setParam('MIPGap', 0.01)"
   ]
  },
  {
   "cell_type": "code",
   "execution_count": 489,
   "metadata": {},
   "outputs": [
    {
     "name": "stdout",
     "output_type": "stream",
     "text": [
      "Gurobi Optimizer version 10.0.1 build v10.0.1rc0 (linux64)\n",
      "\n",
      "CPU model: 11th Gen Intel(R) Core(TM) i5-11500H @ 2.90GHz, instruction set [SSE2|AVX|AVX2|AVX512]\n",
      "Thread count: 6 physical cores, 12 logical processors, using up to 12 threads\n",
      "\n",
      "Optimize a model with 0 rows, 3 columns and 0 nonzeros\n",
      "Model fingerprint: 0x999f229b\n",
      "Model has 3 quadratic objective terms\n",
      "Model has 1 quadratic constraint\n",
      "Coefficient statistics:\n",
      "  Matrix range     [0e+00, 0e+00]\n",
      "  QMatrix range    [1e+00, 1e+00]\n",
      "  Objective range  [1e+01, 7e+01]\n",
      "  QObjective range [2e+00, 2e+00]\n",
      "  Bounds range     [2e+02, 2e+02]\n",
      "  RHS range        [0e+00, 0e+00]\n",
      "  QRHS range       [2e+03, 2e+03]\n",
      "Presolve time: 0.03s\n",
      "Presolved: 11 rows, 9 columns, 15 nonzeros\n",
      "Presolved model has 2 second-order cone constraints\n",
      "Ordering time: 0.00s\n",
      "\n",
      "Barrier statistics:\n",
      " AA' NZ     : 4.800e+01\n",
      " Factor NZ  : 6.600e+01\n",
      " Factor Ops : 5.060e+02 (less than 1 second per iteration)\n",
      " Threads    : 1\n",
      "\n",
      "                  Objective                Residual\n",
      "Iter       Primal          Dual         Primal    Dual     Compl     Time\n",
      "   0   1.52112690e+03  1.52112690e+03  7.77e+01 5.37e+01  5.99e+03     0s\n",
      "   1  -1.09788154e+02 -4.01547139e+03  1.01e+01 1.03e+01  1.13e+03     0s\n",
      "   2   2.85326816e+02 -1.12637113e+03  6.44e-01 3.82e+00  4.28e+02     0s\n",
      "   3   1.59090170e+03  5.14457409e+01  7.08e-07 1.42e+00  2.11e+02     0s\n",
      "   4   1.40979308e+03 -6.11479125e+02  1.99e-07 4.87e-02  1.30e+02     0s\n",
      "   5   4.56832720e+02 -6.44985253e+02  3.87e-13 3.75e-02  7.29e+01     0s\n",
      "   6   3.66471436e+01 -8.11134122e+01  5.58e-13 9.68e-04  7.50e+00     0s\n",
      "   7   6.94118458e+00 -4.68684321e+00  2.36e-12 1.27e-04  7.46e-01     0s\n",
      "   8   1.53995104e+00 -1.85514177e+00  7.83e-11 1.13e-08  2.12e-01     0s\n",
      "   9   1.74539162e-01 -4.75298770e-01  1.15e-10 2.22e-08  4.06e-02     0s\n",
      "  10   5.00645199e-02 -4.18193953e-02  1.65e-10 2.09e-08  5.74e-03     0s\n",
      "  11   4.86316728e-03 -8.16266556e-03  2.03e-10 5.95e-09  8.14e-04     0s\n",
      "  12   1.03104783e-03 -1.07576817e-03  2.27e-13 1.75e-10  1.32e-04     0s\n",
      "  13   9.35349249e-05 -6.36572736e-05  5.33e-15 1.53e-10  9.82e-06     0s\n",
      "  14   3.19211454e-05 -1.55655132e-05  8.81e-13 3.63e-09  2.97e-06     0s\n",
      "  15   1.24922490e-05 -3.92285369e-06  2.27e-13 1.07e-06  1.03e-06     0s\n",
      "  16   3.25008546e-06  2.54028805e-06  3.34e-13 7.72e-07  4.43e-08     0s\n",
      "\n",
      "Barrier solved model in 16 iterations and 0.09 seconds (0.00 work units)\n",
      "Optimal objective 3.25008546e-06\n",
      "\n"
     ]
    }
   ],
   "source": [
    "quadratic_model.optimize()"
   ]
  },
  {
   "cell_type": "code",
   "execution_count": 490,
   "metadata": {},
   "outputs": [],
   "source": [
    "calc_x = quadratic_model.getVarByName('x').x\n",
    "calc_y = quadratic_model.getVarByName('y').x\n",
    "calc_z = quadratic_model.getVarByName('z').x"
   ]
  },
  {
   "cell_type": "code",
   "execution_count": 491,
   "metadata": {},
   "outputs": [
    {
     "name": "stdout",
     "output_type": "stream",
     "text": [
      "calc_x: 14.09935123210494, calc_y: -35.99834358153686, calc_z: -5.129763957143054\n"
     ]
    }
   ],
   "source": [
    "print(f\"calc_x: {calc_x}, calc_y: {calc_y}, calc_z: {calc_z}\")"
   ]
  },
  {
   "cell_type": "code",
   "execution_count": 493,
   "metadata": {},
   "outputs": [],
   "source": [
    "#add rel\n",
    "calc_x_f = calc_x + parent_x\n",
    "calc_y_f = calc_y + parent_y\n",
    "calc_z_f = calc_z + parent_z"
   ]
  },
  {
   "cell_type": "code",
   "execution_count": 494,
   "metadata": {},
   "outputs": [
    {
     "name": "stdout",
     "output_type": "stream",
     "text": [
      "calc_x_f: 11.27935123210494, calc_y_f: -85.99834358153686, calc_z_f: -4.099763957143054\n",
      "detected_x: 11.28, detected_y: -86.0, detected_z: -4.1\n"
     ]
    }
   ],
   "source": [
    "print(f\"calc_x_f: {calc_x_f}, calc_y_f: {calc_y_f}, calc_z_f: {calc_z_f}\")\n",
    "print(f\"detected_x: {detected_x}, detected_y: {detected_y}, detected_z: {detected_z}\")"
   ]
  },
  {
   "cell_type": "code",
   "execution_count": 495,
   "metadata": {},
   "outputs": [
    {
     "name": "stdout",
     "output_type": "stream",
     "text": [
      "Obj: 0.0018028\n"
     ]
    }
   ],
   "source": [
    "print('Obj: %g' % np.sqrt(quadratic_model.objVal))"
   ]
  },
  {
   "cell_type": "code",
   "execution_count": 496,
   "metadata": {},
   "outputs": [
    {
     "name": "stdout",
     "output_type": "stream",
     "text": [
      "function value: 0.0018027993387714552\n",
      "Distance to detected node: 0.0017945300602143172\n",
      "calculated distance to parent: 38.99983235908379\n",
      "Original distance to parent: 39\n"
     ]
    }
   ],
   "source": [
    "print(f\"function value: {np.sqrt(quadratic_model.objVal)}\")\n",
    "print(f\"Distance to detected node: {np.sqrt((calc_x-detected_x_rel)**2 + (calc_y-detected_y_rel)**2 + (calc_z-detected_z_rel)**2)}\")\n",
    "print(f\"calculated distance to parent: {np.sqrt((calc_x_f-parent_x)**2 + (calc_y_f-parent_y)**2 + (calc_z_f-parent_z)**2)}\")\n",
    "print(f\"Original distance to parent: {distance_to_parent}\")\n"
   ]
  },
  {
   "cell_type": "code",
   "execution_count": 497,
   "metadata": {},
   "outputs": [
    {
     "name": "stdout",
     "output_type": "stream",
     "text": [
      "Graph saved to qcqp.html\n"
     ]
    }
   ],
   "source": [
    "import networkx as nx\n",
    "from graph_utils import plot_graph\n",
    "import numpy as np\n",
    "import pandas as pd\n",
    "from transformation_utils import get_rotation, rotate_graph, get_rotation_nn, optim_rotation\n",
    "\n",
    "G = nx.Graph()\n",
    "G1 = nx.Graph()\n",
    "\n",
    "G.add_node('root', pos=(0, 0, 0))\n",
    "# G.add_node('static_node', pos=(static_node['x'], static_node['z'], static_node['y']))\n",
    "G.add_node('detected_node', pos=(detected_node['x'], detected_node['z'], detected_node['y']))\n",
    "G.add_node('detected_parent', pos=(detected_parent['x'], detected_parent['z'], detected_parent['y']))\n",
    "G1.add_node('calculated_node', pos=(calc_x_f, calc_z_f, calc_y_f))\n",
    "\n",
    "plot_graph(static_graph=G, detected_graph=G1, name='qcqp', save=True)\n",
    "\n",
    "\n"
   ]
  },
  {
   "cell_type": "code",
   "execution_count": null,
   "metadata": {},
   "outputs": [],
   "source": []
  }
 ],
 "metadata": {
  "kernelspec": {
   "display_name": ".venv",
   "language": "python",
   "name": "python3"
  },
  "language_info": {
   "codemirror_mode": {
    "name": "ipython",
    "version": 3
   },
   "file_extension": ".py",
   "mimetype": "text/x-python",
   "name": "python",
   "nbconvert_exporter": "python",
   "pygments_lexer": "ipython3",
   "version": "3.10.6"
  },
  "orig_nbformat": 4
 },
 "nbformat": 4,
 "nbformat_minor": 2
}
