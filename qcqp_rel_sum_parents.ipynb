{
 "cells": [
  {
   "cell_type": "code",
   "execution_count": 2,
   "metadata": {},
   "outputs": [],
   "source": [
    "import networkx as nx\n",
    "from graph_utils import plot_graph\n",
    "import numpy as np\n",
    "import pandas as pd\n",
    "from gurobipy import GRB, Model"
   ]
  },
  {
   "cell_type": "code",
   "execution_count": 3,
   "metadata": {},
   "outputs": [],
   "source": [
    "static = pd.read_csv('static_with_t.csv')\n",
    "detected = pd.read_csv('randomized_graph.csv')"
   ]
  },
  {
   "cell_type": "code",
   "execution_count": 4,
   "metadata": {},
   "outputs": [],
   "source": [
    "node_name = 'conn_f_30'"
   ]
  },
  {
   "cell_type": "code",
   "execution_count": 5,
   "metadata": {},
   "outputs": [],
   "source": [
    "def calculate_distance_to_root(name):\n",
    "    static = pd.read_csv('static_with_t.csv')\n",
    "\n",
    "    if name == 'root':\n",
    "        return 0\n",
    "\n",
    "    parent_name = static.loc[static['name'] == name, 'parent'].values[0]\n",
    "    distance_to_parent = static.loc[static['name'] == name, 'distance_to_parent'].values[0]\n",
    "    \n",
    "    return distance_to_parent + calculate_distance_to_root(parent_name)\n",
    "    "
   ]
  },
  {
   "cell_type": "code",
   "execution_count": 6,
   "metadata": {},
   "outputs": [
    {
     "data": {
      "text/plain": [
       "95"
      ]
     },
     "execution_count": 6,
     "metadata": {},
     "output_type": "execute_result"
    }
   ],
   "source": [
    "calculate_distance_to_root(node_name)"
   ]
  },
  {
   "cell_type": "code",
   "execution_count": 7,
   "metadata": {},
   "outputs": [
    {
     "data": {
      "text/plain": [
       "{'name': 'conn_f_30',\n",
       " 'number': 30,\n",
       " 'x': 12.0,\n",
       " 'y': -86.0,\n",
       " 'z': 0.0,\n",
       " 'parent': 'cross_f30',\n",
       " 'distance_to_parent': 39}"
      ]
     },
     "execution_count": 7,
     "metadata": {},
     "output_type": "execute_result"
    }
   ],
   "source": [
    "static_node = static[static['name'] == node_name].to_dict('records')[0]\n",
    "static_node"
   ]
  },
  {
   "cell_type": "code",
   "execution_count": 8,
   "metadata": {},
   "outputs": [
    {
     "data": {
      "text/plain": [
       "{'name': 'conn_f_30',\n",
       " 'number': 30,\n",
       " 'x': 11.28,\n",
       " 'y': -86.0,\n",
       " 'z': -4.1,\n",
       " 'parent': 'cross_f30'}"
      ]
     },
     "execution_count": 8,
     "metadata": {},
     "output_type": "execute_result"
    }
   ],
   "source": [
    "detected_node = detected[detected['name'] == node_name].to_dict('records')[0]\n",
    "detected_node"
   ]
  },
  {
   "cell_type": "code",
   "execution_count": 9,
   "metadata": {},
   "outputs": [
    {
     "data": {
      "text/plain": [
       "{'name': 'cross_f30',\n",
       " 'number': -1,\n",
       " 'x': -2.82,\n",
       " 'y': -50.0,\n",
       " 'z': 1.03,\n",
       " 'parent': 'cross_f'}"
      ]
     },
     "execution_count": 9,
     "metadata": {},
     "output_type": "execute_result"
    }
   ],
   "source": [
    "detected_parent = detected[detected['name'] == static_node['parent']].to_dict('records')[0]\n",
    "detected_parent\n"
   ]
  },
  {
   "cell_type": "code",
   "execution_count": 10,
   "metadata": {},
   "outputs": [],
   "source": [
    "parent_x = detected_parent[\"x\"]\n",
    "parent_y = detected_parent[\"y\"]\n",
    "parent_z = detected_parent[\"z\"]\n",
    "\n",
    "detected_x = detected_node[\"x\"]\n",
    "detected_y = detected_node[\"y\"]\n",
    "detected_z = detected_node[\"z\"]\n",
    "\n",
    "distance_to_parent = static_node[\"distance_to_parent\"]"
   ]
  },
  {
   "cell_type": "code",
   "execution_count": 11,
   "metadata": {},
   "outputs": [
    {
     "name": "stdout",
     "output_type": "stream",
     "text": [
      "Restricted license - for non-production use only - expires 2024-10-28\n"
     ]
    }
   ],
   "source": [
    "quadratic_model = Model('quadratic')"
   ]
  },
  {
   "cell_type": "markdown",
   "metadata": {},
   "source": []
  },
  {
   "cell_type": "code",
   "execution_count": 12,
   "metadata": {},
   "outputs": [
    {
     "name": "stdout",
     "output_type": "stream",
     "text": [
      "detected_x: 11.28, detected_y: -86.0, detected_z: -4.1\n",
      "parent_x: -2.82, parent_y: -50.0, parent_z: 1.03\n",
      "detected_x_rel: 14.1, detected_y_rel: -36.0, detected_z_rel: -5.13\n"
     ]
    }
   ],
   "source": [
    "detected_x_rel = detected_x - parent_x\n",
    "detected_y_rel = detected_y - parent_y\n",
    "detected_z_rel = detected_z - parent_z\n",
    "\n",
    "print(f\"detected_x: {detected_x}, detected_y: {detected_y}, detected_z: {detected_z}\")\n",
    "print(f\"parent_x: {parent_x}, parent_y: {parent_y}, parent_z: {parent_z}\")\n",
    "print(f\"detected_x_rel: {detected_x_rel}, detected_y_rel: {detected_y_rel}, detected_z_rel: {detected_z_rel}\")"
   ]
  },
  {
   "cell_type": "code",
   "execution_count": 13,
   "metadata": {},
   "outputs": [],
   "source": [
    "x = quadratic_model.addVar(name = 'x', vtype=GRB.CONTINUOUS, lb=-250, ub=250)\n",
    "y = quadratic_model.addVar(name = 'y', vtype=GRB.CONTINUOUS, lb=-250, ub=250)\n",
    "z = quadratic_model.addVar(name = 'z', vtype=GRB.CONTINUOUS, lb=-250, ub=250)\n",
    "#wartosci poczatkowe rowne obserwacji"
   ]
  },
  {
   "cell_type": "code",
   "execution_count": 14,
   "metadata": {},
   "outputs": [
    {
     "data": {
      "text/plain": [
       "<gurobi.QConstr Not Yet Added>"
      ]
     },
     "execution_count": 14,
     "metadata": {},
     "output_type": "execute_result"
    }
   ],
   "source": [
    "quadratic_model.addQConstr(\n",
    "    x**2 + y**2 + z**2 <= distance_to_parent**2)"
   ]
  },
  {
   "cell_type": "code",
   "execution_count": 15,
   "metadata": {},
   "outputs": [],
   "source": [
    "obj_fn = (\n",
    "    (x + parent_x - detected_x) ** 2\n",
    "    + (y + parent_y - detected_y) ** 2\n",
    "    + (z + parent_z - detected_z) ** 2\n",
    ")\n",
    "# x + parent"
   ]
  },
  {
   "cell_type": "code",
   "execution_count": 16,
   "metadata": {},
   "outputs": [],
   "source": [
    "quadratic_model.setObjective(obj_fn, GRB.MINIMIZE)"
   ]
  },
  {
   "cell_type": "code",
   "execution_count": 17,
   "metadata": {},
   "outputs": [],
   "source": [
    "# quadratic_model.setParam('MIPGap', 0.01)"
   ]
  },
  {
   "cell_type": "code",
   "execution_count": 18,
   "metadata": {},
   "outputs": [
    {
     "name": "stdout",
     "output_type": "stream",
     "text": [
      "Gurobi Optimizer version 10.0.1 build v10.0.1rc0 (linux64)\n",
      "\n",
      "CPU model: 11th Gen Intel(R) Core(TM) i5-11500H @ 2.90GHz, instruction set [SSE2|AVX|AVX2|AVX512]\n",
      "Thread count: 6 physical cores, 12 logical processors, using up to 12 threads\n",
      "\n",
      "Optimize a model with 0 rows, 3 columns and 0 nonzeros\n",
      "Model fingerprint: 0xe13e877d\n",
      "Model has 3 quadratic objective terms\n",
      "Model has 1 quadratic constraint\n",
      "Coefficient statistics:\n",
      "  Matrix range     [0e+00, 0e+00]\n",
      "  QMatrix range    [1e+00, 1e+00]\n",
      "  Objective range  [1e+01, 7e+01]\n",
      "  QObjective range [2e+00, 2e+00]\n",
      "  Bounds range     [2e+02, 2e+02]\n",
      "  RHS range        [0e+00, 0e+00]\n",
      "  QRHS range       [2e+03, 2e+03]\n",
      "Presolve time: 0.02s\n",
      "Presolved: 11 rows, 9 columns, 15 nonzeros\n",
      "Presolved model has 2 second-order cone constraints\n",
      "Ordering time: 0.00s\n",
      "\n",
      "Barrier statistics:\n",
      " AA' NZ     : 4.800e+01\n",
      " Factor NZ  : 6.600e+01\n",
      " Factor Ops : 5.060e+02 (less than 1 second per iteration)\n",
      " Threads    : 1\n",
      "\n",
      "                  Objective                Residual\n",
      "Iter       Primal          Dual         Primal    Dual     Compl     Time\n",
      "   0   1.52112690e+03  1.52112690e+03  9.68e+01 5.37e+01  7.46e+03     0s\n",
      "   1  -4.55981866e+02 -5.22521299e+03  1.22e+01 9.88e+00  1.35e+03     0s\n",
      "   2   2.78832410e+02 -1.79214310e+03  6.39e-01 3.90e+00  5.45e+02     0s\n",
      "   3   1.73781746e+03 -1.53212455e+02  7.03e-07 1.39e+00  2.55e+02     0s\n",
      "   4   1.18965544e+03 -6.63095486e+02  1.26e-12 7.30e-02  1.23e+02     0s\n",
      "   5   5.85654394e+01 -1.73922564e+02  5.44e-12 3.55e-03  1.51e+01     0s\n",
      "   6   8.98999939e+00 -1.33727758e+01  1.47e-12 4.04e-09  1.40e+00     0s\n",
      "   7   1.05438181e+00 -1.16939761e+00  1.36e-11 6.56e-09  1.39e-01     0s\n",
      "   8   3.15603549e-01 -3.83994680e-01  3.70e-10 3.89e-08  4.37e-02     0s\n",
      "   9   1.58706917e-01 -6.88108921e-02  8.88e-15 3.89e-11  1.42e-02     0s\n",
      "  10   5.56401182e-03 -8.13369834e-03  5.64e-10 7.01e-09  8.56e-04     0s\n",
      "  11   5.67785550e-03 -1.41426209e-03  3.09e-12 1.59e-09  4.43e-04     0s\n",
      "  12   2.12766923e-04 -6.44680350e-04  4.97e-13 1.32e-10  5.36e-05     0s\n",
      "  13   1.59931088e-04 -1.04939176e-04  4.55e-13 9.28e-07  1.66e-05     0s\n",
      "  14   3.94503400e-05 -8.10398888e-06  5.40e-13 3.36e-07  2.97e-06     0s\n",
      "  15   4.21863888e-06  1.31756906e-07  1.40e-12 4.11e-07  2.55e-07     0s\n",
      "\n",
      "Barrier solved model in 15 iterations and 0.08 seconds (0.00 work units)\n",
      "Optimal objective 4.21863888e-06\n",
      "\n"
     ]
    }
   ],
   "source": [
    "quadratic_model.optimize()"
   ]
  },
  {
   "cell_type": "code",
   "execution_count": 19,
   "metadata": {},
   "outputs": [],
   "source": [
    "calc_x = quadratic_model.getVarByName('x').x\n",
    "calc_y = quadratic_model.getVarByName('y').x\n",
    "calc_z = quadratic_model.getVarByName('z').x"
   ]
  },
  {
   "cell_type": "code",
   "execution_count": 20,
   "metadata": {},
   "outputs": [
    {
     "name": "stdout",
     "output_type": "stream",
     "text": [
      "calc_x: 14.0992601982276, calc_y: -35.99811074447228, calc_z: -5.129730834985858\n"
     ]
    }
   ],
   "source": [
    "print(f\"calc_x: {calc_x}, calc_y: {calc_y}, calc_z: {calc_z}\")"
   ]
  },
  {
   "cell_type": "code",
   "execution_count": 21,
   "metadata": {},
   "outputs": [],
   "source": [
    "#add rel\n",
    "calc_x_f = calc_x + parent_x\n",
    "calc_y_f = calc_y + parent_y\n",
    "calc_z_f = calc_z + parent_z"
   ]
  },
  {
   "cell_type": "code",
   "execution_count": 22,
   "metadata": {},
   "outputs": [
    {
     "name": "stdout",
     "output_type": "stream",
     "text": [
      "calc_x_f: 11.2792601982276, calc_y_f: -85.99811074447229, calc_z_f: -4.099730834985857\n",
      "detected_x: 11.28, detected_y: -86.0, detected_z: -4.1\n"
     ]
    }
   ],
   "source": [
    "print(f\"calc_x_f: {calc_x_f}, calc_y_f: {calc_y_f}, calc_z_f: {calc_z_f}\")\n",
    "print(f\"detected_x: {detected_x}, detected_y: {detected_y}, detected_z: {detected_z}\")"
   ]
  },
  {
   "cell_type": "code",
   "execution_count": 23,
   "metadata": {},
   "outputs": [
    {
     "name": "stdout",
     "output_type": "stream",
     "text": [
      "Obj: 0.00205393\n"
     ]
    }
   ],
   "source": [
    "print('Obj: %g' % np.sqrt(quadratic_model.objVal))"
   ]
  },
  {
   "cell_type": "code",
   "execution_count": 24,
   "metadata": {},
   "outputs": [
    {
     "name": "stdout",
     "output_type": "stream",
     "text": [
      "function value: 0.0020539325398435987\n",
      "Distance to detected node: 0.0020467151527045905\n",
      "calculated distance to parent: 38.99958017399701\n",
      "Original distance to parent: 39\n"
     ]
    }
   ],
   "source": [
    "print(f\"function value: {np.sqrt(quadratic_model.objVal)}\")\n",
    "print(f\"Distance to detected node: {np.sqrt((calc_x-detected_x_rel)**2 + (calc_y-detected_y_rel)**2 + (calc_z-detected_z_rel)**2)}\")\n",
    "print(f\"calculated distance to parent: {np.sqrt((calc_x_f-parent_x)**2 + (calc_y_f-parent_y)**2 + (calc_z_f-parent_z)**2)}\")\n",
    "print(f\"Original distance to parent: {distance_to_parent}\")\n"
   ]
  },
  {
   "cell_type": "code",
   "execution_count": 25,
   "metadata": {},
   "outputs": [
    {
     "name": "stdout",
     "output_type": "stream",
     "text": [
      "Graph saved to qcqp.html\n"
     ]
    }
   ],
   "source": [
    "import networkx as nx\n",
    "from graph_utils import plot_graph\n",
    "import numpy as np\n",
    "import pandas as pd\n",
    "from transformation_utils import get_rotation, rotate_graph, get_rotation_nn, optim_rotation\n",
    "\n",
    "G = nx.Graph()\n",
    "G1 = nx.Graph()\n",
    "\n",
    "G.add_node('root', pos=(0, 0, 0))\n",
    "# G.add_node('static_node', pos=(static_node['x'], static_node['z'], static_node['y']))\n",
    "G.add_node('detected_node', pos=(detected_node['x'], detected_node['z'], detected_node['y']))\n",
    "G.add_node('detected_parent', pos=(detected_parent['x'], detected_parent['z'], detected_parent['y']))\n",
    "G1.add_node('calculated_node', pos=(calc_x_f, calc_z_f, calc_y_f))\n",
    "\n",
    "plot_graph(static_graph=G, detected_graph=G1, name='qcqp', save=True)\n",
    "\n",
    "\n"
   ]
  },
  {
   "cell_type": "code",
   "execution_count": null,
   "metadata": {},
   "outputs": [],
   "source": []
  }
 ],
 "metadata": {
  "kernelspec": {
   "display_name": ".venv",
   "language": "python",
   "name": "python3"
  },
  "language_info": {
   "codemirror_mode": {
    "name": "ipython",
    "version": 3
   },
   "file_extension": ".py",
   "mimetype": "text/x-python",
   "name": "python",
   "nbconvert_exporter": "python",
   "pygments_lexer": "ipython3",
   "version": "3.10.6"
  },
  "orig_nbformat": 4
 },
 "nbformat": 4,
 "nbformat_minor": 2
}
