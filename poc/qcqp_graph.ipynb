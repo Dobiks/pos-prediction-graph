{
 "cells": [
  {
   "cell_type": "code",
   "execution_count": 5,
   "metadata": {},
   "outputs": [],
   "source": [
    "import networkx as nx\n",
    "from graph_utils import plot_graph\n",
    "import numpy as np\n",
    "import pandas as pd\n",
    "from gurobipy import GRB, Model"
   ]
  },
  {
   "cell_type": "code",
   "execution_count": 6,
   "metadata": {},
   "outputs": [],
   "source": [
    "static = pd.read_csv(\"csv_files/static_with_t.csv\")\n",
    "detected = pd.read_csv(\"csv_files/detection_graph.csv\")"
   ]
  },
  {
   "cell_type": "code",
   "execution_count": 7,
   "metadata": {},
   "outputs": [],
   "source": [
    "level_order = [\n",
    "    \"root_cross_right\",\n",
    "    \"root_cross_left\",\n",
    "    \"root_cross_right2\",\n",
    "    \"conn_k\",\n",
    "    \"cross_e\",\n",
    "    \"cross_bag_br\",\n",
    "    \"cross_ij1\",\n",
    "    \"cross_e_c\",\n",
    "    \"cross_f\",\n",
    "    \"bag_b_r\",\n",
    "    \"bag_a_r\",\n",
    "    \"conn_b\",\n",
    "    \"cross_ij2\",\n",
    "    \"conn_e\",\n",
    "    \"conn_c\",\n",
    "    \"cross_k\",\n",
    "    \"cross_f30\",\n",
    "    \"conn_i\",\n",
    "    \"conn_j\",\n",
    "    \"box\",\n",
    "    \"conn_a\",\n",
    "    \"conn_f_30\",\n",
    "    \"cross_f37\",\n",
    "    \"conn_f_60\",\n",
    "    \"bag_b_l\",\n",
    "    \"cross_gh\",\n",
    "    \"conn_f_37\",\n",
    "    \"conn_d\",\n",
    "    \"conn_g\",\n",
    "    \"conn_h\",\n",
    "    \"bag_a_l\",\n",
    "]"
   ]
  },
  {
   "cell_type": "code",
   "execution_count": 8,
   "metadata": {},
   "outputs": [
    {
     "name": "stdout",
     "output_type": "stream",
     "text": [
      "Restricted license - for non-production use only - expires 2024-10-28\n"
     ]
    }
   ],
   "source": [
    "quadratic_model = Model(\"quadratic\")"
   ]
  },
  {
   "cell_type": "code",
   "execution_count": 9,
   "metadata": {},
   "outputs": [],
   "source": [
    "variables = {}\n",
    "for name in level_order:\n",
    "    variables[f\"{name}_x\"] = quadratic_model.addVar(\n",
    "        vtype=GRB.CONTINUOUS, lb=-250, ub=250, name=f\"{name}_x\"\n",
    "    )\n",
    "    variables[f\"{name}_y\"] = quadratic_model.addVar(\n",
    "        vtype=GRB.CONTINUOUS, lb=-250, ub=250, name=f\"{name}_y\"\n",
    "    )\n",
    "    variables[f\"{name}_z\"] = quadratic_model.addVar(\n",
    "        vtype=GRB.CONTINUOUS, lb=-250, ub=250, name=f\"{name}_z\"\n",
    "    )"
   ]
  },
  {
   "cell_type": "code",
   "execution_count": 10,
   "metadata": {},
   "outputs": [],
   "source": [
    "obj_fn = 0\n",
    "for name in level_order:\n",
    "    if name == \"root\":\n",
    "        continue\n",
    "    node = detected[detected[\"name\"] == name]\n",
    "    if node.shape[0] != 0:\n",
    "        detected_x = node[\"x\"].values[0]\n",
    "        detected_y = node[\"y\"].values[0]\n",
    "        detected_z = node[\"z\"].values[0]\n",
    "        term = (\n",
    "            (variables[f\"{name}_x\"] - detected_x) ** 2\n",
    "            + (variables[f\"{name}_y\"] - detected_y) ** 2\n",
    "            + (variables[f\"{name}_z\"] - detected_z) ** 2\n",
    "        )\n",
    "        obj_fn += term"
   ]
  },
  {
   "cell_type": "code",
   "execution_count": 11,
   "metadata": {},
   "outputs": [],
   "source": [
    "# for name in level_order:\n",
    "#     node_info = static[static[\"name\"] == name]\n",
    "#     parent = node_info[\"parent\"].values[0]\n",
    "#     distance_to_parent = node_info[\"distance_to_parent\"].values[0]\n",
    "#     if parent == \"root\":\n",
    "#         quadratic_model.addQConstr(\n",
    "#             (\n",
    "#                 variables[f\"{name}_x\"] ** 2\n",
    "#                 + variables[f\"{name}_y\"] ** 2\n",
    "#                 + variables[f\"{name}_z\"] ** 2\n",
    "#             )\n",
    "#             <= distance_to_parent**2\n",
    "#         )\n",
    "#     else:\n",
    "#         quadratic_model.addQConstr(\n",
    "#             (\n",
    "#                 (variables[f\"{name}_x\"] - variables[f\"{parent}_x\"]) ** 2\n",
    "#                 + (variables[f\"{name}_y\"] - variables[f\"{parent}_y\"]) ** 2\n",
    "#                 + (variables[f\"{name}_z\"] - variables[f\"{parent}_z\"]) ** 2\n",
    "#             )\n",
    "#             <= distance_to_parent**2\n",
    "#         )"
   ]
  },
  {
   "cell_type": "code",
   "execution_count": 12,
   "metadata": {},
   "outputs": [],
   "source": [
    "for name in level_order:\n",
    "    node_info = static[static[\"name\"] == name]\n",
    "    parent = node_info[\"parent\"].values[0]\n",
    "    distance_to_parent = node_info[\"distance_to_parent\"].values[0]\n",
    "    if name == \"root_cross_left\":\n",
    "        quadratic_model.addQConstr(variables[f\"{name}_x\"] == -13)\n",
    "        quadratic_model.addQConstr(variables[f\"{name}_y\"] == -20)\n",
    "        quadratic_model.addQConstr(variables[f\"{name}_z\"] == 0)\n",
    "\n",
    "    elif name == \"root_cross_right\":\n",
    "        quadratic_model.addQConstr(variables[f\"{name}_x\"] == 10)\n",
    "        quadratic_model.addQConstr(variables[f\"{name}_y\"] == -1)\n",
    "        quadratic_model.addQConstr(variables[f\"{name}_z\"] == 0)\n",
    "    else:\n",
    "        quadratic_model.addQConstr(\n",
    "            (\n",
    "                (variables[f\"{name}_x\"] - variables[f\"{parent}_x\"]) ** 2\n",
    "                + (variables[f\"{name}_y\"] - variables[f\"{parent}_y\"]) ** 2\n",
    "                + (variables[f\"{name}_z\"] - variables[f\"{parent}_z\"]) ** 2\n",
    "            )\n",
    "            <= distance_to_parent**2\n",
    "        )"
   ]
  },
  {
   "cell_type": "code",
   "execution_count": 13,
   "metadata": {},
   "outputs": [],
   "source": [
    "quadratic_model.setObjective(obj_fn, GRB.MINIMIZE)"
   ]
  },
  {
   "cell_type": "code",
   "execution_count": 14,
   "metadata": {},
   "outputs": [
    {
     "name": "stdout",
     "output_type": "stream",
     "text": [
      "Gurobi Optimizer version 10.0.1 build v10.0.1rc0 (linux64)\n",
      "\n",
      "CPU model: 11th Gen Intel(R) Core(TM) i5-11500H @ 2.90GHz, instruction set [SSE2|AVX|AVX2|AVX512]\n",
      "Thread count: 6 physical cores, 12 logical processors, using up to 12 threads\n",
      "\n",
      "Optimize a model with 6 rows, 93 columns and 6 nonzeros\n",
      "Model fingerprint: 0x7da35b23\n",
      "Model has 54 quadratic objective terms\n",
      "Model has 29 quadratic constraints\n",
      "Coefficient statistics:\n",
      "  Matrix range     [1e+00, 1e+00]\n",
      "  QMatrix range    [1e+00, 2e+00]\n",
      "  Objective range  [6e+00, 4e+02]\n",
      "  QObjective range [2e+00, 2e+00]\n",
      "  Bounds range     [2e+02, 2e+02]\n",
      "  RHS range        [1e+00, 2e+01]\n",
      "  QRHS range       [2e+01, 1e+04]\n",
      "Presolve removed 6 rows and 6 columns\n",
      "Presolve time: 0.02s\n",
      "Presolved: 234 rows, 202 columns, 403 nonzeros\n",
      "Presolved model has 30 second-order cone constraints\n",
      "Ordering time: 0.00s\n",
      "\n",
      "Barrier statistics:\n",
      " AA' NZ     : 1.419e+04\n",
      " Factor NZ  : 1.502e+04\n",
      " Factor Ops : 1.585e+06 (less than 1 second per iteration)\n",
      " Threads    : 1\n",
      "\n",
      "                  Objective                Residual\n",
      "Iter       Primal          Dual         Primal    Dual     Compl     Time\n",
      "   0   2.40925833e+05 -1.00795685e+06  5.23e+02 8.10e+02  2.86e+05     0s\n",
      "   1   1.50879049e+05 -9.57823092e+06  7.33e+01 1.32e+02  5.84e+04     0s\n",
      "   2   3.62194750e+04 -3.77153127e+06  3.78e+01 2.28e+01  1.85e+04     0s\n",
      "   3  -6.19522059e+04 -2.73680043e+06  1.70e+01 1.38e+01  1.09e+04     0s\n",
      "   4   4.93237012e+04 -1.55211880e+06  2.73e+00 6.78e+00  5.35e+03     0s\n",
      "   5   1.84228323e+05 -8.54872565e+05  2.93e-01 3.68e+00  3.20e+03     0s\n",
      "   6   1.27715791e+05 -5.40705641e+05  2.40e-01 2.30e+00  2.11e+03     0s\n",
      "   7   3.38502021e+04 -1.08151662e+05  7.11e-02 3.92e-01  5.22e+02     0s\n",
      "   8   2.89451983e+04 -2.35472495e+04  7.78e-08 7.07e-02  1.75e+02     0s\n",
      "   9   1.11100884e+04 -7.83018138e+03  3.91e-08 3.55e-04  5.07e+01     0s\n",
      "  10   2.93758330e+02 -2.11938250e+03  9.28e-09 4.13e-06  6.44e+00     0s\n",
      "  11   6.28574732e+01 -3.57559869e+02  9.75e-10 1.28e-05  1.12e+00     0s\n",
      "  12   7.79410127e+00 -3.26930666e+01  2.91e-11 8.18e-07  1.08e-01     0s\n",
      "  13   1.16699318e+00 -1.15725395e+00  2.91e-11 1.69e-07  6.20e-03     0s\n",
      "  14   5.84316637e-01 -2.45026265e-01  4.72e-11 3.25e-05  2.21e-03     0s\n",
      "  15   4.07697077e-01  2.80503200e-01  1.39e-11 1.99e-02  3.39e-04     0s\n",
      "  16   4.02275265e-01  3.92919507e-01  2.19e-11 2.53e-03  2.49e-05     0s\n",
      "  17   4.01965245e-01  3.93187639e-01  1.66e-10 5.18e-03  2.34e-05     0s\n",
      "  18   4.01913587e-01  3.93380227e-01  1.78e-10 1.08e-02  2.27e-05     0s\n",
      "  19   4.01877611e-01  3.93435138e-01  8.01e-10 1.86e-02  2.25e-05     0s\n",
      "  20   4.01871684e-01  3.93474710e-01  2.37e-09 8.51e-03  2.24e-05     0s\n",
      "  21   4.01849891e-01  3.93522722e-01  6.21e-09 7.85e-03  2.22e-05     0s\n",
      "  22   4.01872975e-01  3.93703207e-01  8.88e-10 3.25e-03  2.18e-05     0s\n",
      "  23   4.01872384e-01  3.93704356e-01  4.77e-10 5.04e-03  2.18e-05     0s\n",
      "  24   4.01872331e-01  3.93707037e-01  1.90e-10 2.32e-03  2.17e-05     0s\n",
      "  25   4.22517829e-01  3.93707101e-01  4.40e-06 3.58e-03  2.17e-05     0s\n",
      "  26   3.58366425e-01  3.93707141e-01  9.33e-06 7.69e-03  2.25e-05     0s\n",
      "  27   4.02124784e-01  3.93762198e-01  3.68e-09 1.56e-02  2.23e-05     0s\n",
      "  28   4.01883438e-01  3.93837033e-01  8.47e-11 1.20e-03  2.14e-05     0s\n",
      "  29   4.01889428e-01  3.93842545e-01  1.88e-09 1.90e-03  2.14e-05     0s\n",
      "  30   4.01812515e-01  3.93843020e-01  1.43e-08 9.36e-04  2.14e-05     0s\n",
      "  31   4.00880428e-01  3.93846923e-01  2.11e-07 5.50e-04  2.14e-05     0s\n",
      "  32   4.01187995e-01  3.93847493e-01  1.46e-07 8.92e-04  2.14e-05     0s\n",
      "  33   3.96795681e-01  3.93848068e-01  1.08e-06 1.36e-03  2.14e-05     0s\n",
      "  34   3.41765803e-01  3.93848079e-01  1.28e-05 2.10e-03  2.14e-05     0s\n",
      "  35   6.50204109e-01  3.93848079e-01  5.28e-05 2.00e-04  2.21e-05     0s\n",
      "\n",
      "Barrier solved model in 35 iterations and 0.13 seconds (0.03 work units)\n",
      "Optimal objective 6.50204109e-01\n",
      "\n"
     ]
    }
   ],
   "source": [
    "quadratic_model.optimize()"
   ]
  },
  {
   "cell_type": "code",
   "execution_count": 15,
   "metadata": {},
   "outputs": [],
   "source": [
    "# print all variable values\n",
    "# for v in quadratic_model.getVars():\n",
    "#     print(v.varName, v.x)"
   ]
  },
  {
   "cell_type": "code",
   "execution_count": 16,
   "metadata": {},
   "outputs": [
    {
     "name": "stdout",
     "output_type": "stream",
     "text": [
      "Graph saved to qcqp2.html\n"
     ]
    }
   ],
   "source": [
    "import networkx as nx\n",
    "from graph_utils import plot_graph\n",
    "import numpy as np\n",
    "import pandas as pd\n",
    "from transformation_utils import (\n",
    "    get_rotation,\n",
    "    rotate_graph,\n",
    "    get_rotation_nn,\n",
    "    optim_rotation,\n",
    ")\n",
    "\n",
    "G1 = nx.Graph()\n",
    "for i in range(len(static)):\n",
    "    G1.add_node(static['name'][i], pos=(static['x'][i], static['z'][i], static['y'][i]))\n",
    "for i in range(len(static)):\n",
    "    if static['parent'][i] != 0 and static['parent'][i] != '0':\n",
    "        G1.add_edge(static['name'][i], static['parent'][i])\n",
    "\n",
    "\n",
    "G2 = nx.Graph()\n",
    "for name in level_order:\n",
    "    # if x and y and z are  different than 250 or -250\n",
    "    if variables[f\"{name}_x\"].x != 250 and variables[f\"{name}_x\"].x != -250:\n",
    "        # print(name, variables[f\"{name}_x\"].x, variables[f\"{name}_y\"].x, variables[f\"{name}_z\"].x)\n",
    "        G2.add_node(\n",
    "            name,\n",
    "            pos=(\n",
    "                variables[f\"{name}_x\"].x,\n",
    "                variables[f\"{name}_z\"].x,\n",
    "                variables[f\"{name}_y\"].x,\n",
    "            ),\n",
    "        )\n",
    "\n",
    "\n",
    "\n",
    "\n",
    "plot_graph(static_graph=G1, detected_graph=G2, name=\"qcqp2\", save=True)"
   ]
  },
  {
   "cell_type": "code",
   "execution_count": 17,
   "metadata": {},
   "outputs": [
    {
     "name": "stdout",
     "output_type": "stream",
     "text": [
      "10.0\n"
     ]
    }
   ],
   "source": [
    "# print cross_bag_br_x\n",
    "print(variables[\"root_cross_right_x\"].x)"
   ]
  },
  {
   "cell_type": "code",
   "execution_count": null,
   "metadata": {},
   "outputs": [],
   "source": []
  }
 ],
 "metadata": {
  "kernelspec": {
   "display_name": ".venv",
   "language": "python",
   "name": "python3"
  },
  "language_info": {
   "codemirror_mode": {
    "name": "ipython",
    "version": 3
   },
   "file_extension": ".py",
   "mimetype": "text/x-python",
   "name": "python",
   "nbconvert_exporter": "python",
   "pygments_lexer": "ipython3",
   "version": "3.10.6"
  },
  "orig_nbformat": 4
 },
 "nbformat": 4,
 "nbformat_minor": 2
}
