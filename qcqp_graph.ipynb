{
 "cells": [
  {
   "cell_type": "code",
   "execution_count": 67,
   "metadata": {},
   "outputs": [],
   "source": [
    "import networkx as nx\n",
    "from graph_utils import plot_graph\n",
    "import numpy as np\n",
    "import pandas as pd\n",
    "from gurobipy import GRB, Model"
   ]
  },
  {
   "cell_type": "code",
   "execution_count": 68,
   "metadata": {},
   "outputs": [],
   "source": [
    "static = pd.read_csv('static_with_t.csv')\n",
    "detected = pd.read_csv('detection_graph.csv')"
   ]
  },
  {
   "cell_type": "code",
   "execution_count": 69,
   "metadata": {},
   "outputs": [],
   "source": [
    "level_order = [\n",
    "    \"root_cross_right\",\n",
    "    \"root_cross_left\",\n",
    "    \"root_cross_right2\",\n",
    "    \"conn_k\",\n",
    "    \"cross_e\",\n",
    "    \"cross_bag_br\",\n",
    "    \"cross_ij1\",\n",
    "    \"cross_e_c\",\n",
    "    \"cross_f\",\n",
    "    \"bag_b_r\",\n",
    "    \"bag_a_r\",\n",
    "    \"conn_b\",\n",
    "    \"cross_ij2\",\n",
    "    \"conn_e\",\n",
    "    \"conn_c\",\n",
    "    \"cross_k\",\n",
    "    \"cross_f30\",\n",
    "    \"conn_i\",\n",
    "    \"conn_j\",\n",
    "    \"box\",\n",
    "    \"conn_a\",\n",
    "    \"conn_f_30\",\n",
    "    \"cross_f37\",\n",
    "    \"conn_f_60\",\n",
    "    \"bag_b_l\",\n",
    "    \"cross_gh\",\n",
    "    \"conn_f_37\",\n",
    "    \"conn_d\",\n",
    "    \"conn_g\",\n",
    "    \"conn_h\",\n",
    "    \"bag_a_l\",\n",
    "]"
   ]
  },
  {
   "cell_type": "code",
   "execution_count": 70,
   "metadata": {},
   "outputs": [],
   "source": [
    "quadratic_model = Model('quadratic')"
   ]
  },
  {
   "cell_type": "code",
   "execution_count": 71,
   "metadata": {},
   "outputs": [],
   "source": [
    "variables = {}\n",
    "for name in level_order:\n",
    "    variables[f\"{name}_x\"] = quadratic_model.addVar(\n",
    "        vtype=GRB.CONTINUOUS, lb=-250, ub=250, name=f\"{name}_x\"\n",
    "    )\n",
    "    variables[f\"{name}_y\"] = quadratic_model.addVar(\n",
    "        vtype=GRB.CONTINUOUS, lb=-250, ub=250, name=f\"{name}_y\"\n",
    "    )\n",
    "    variables[f\"{name}_z\"] = quadratic_model.addVar(\n",
    "        vtype=GRB.CONTINUOUS, lb=-250, ub=250, name=f\"{name}_z\"\n",
    "    )\n",
    "    \n",
    "    \n",
    "        "
   ]
  },
  {
   "cell_type": "code",
   "execution_count": 72,
   "metadata": {},
   "outputs": [],
   "source": [
    "obj_fn = 0\n",
    "for name in level_order:\n",
    "    if name == \"root\":\n",
    "        continue\n",
    "    node = detected[detected[\"name\"] == name]\n",
    "    if node.shape[0] != 0:\n",
    "        detected_x = node[\"x\"].values[0]\n",
    "        detected_y = node[\"y\"].values[0]\n",
    "        detected_z = node[\"z\"].values[0]\n",
    "        parent = static[static[\"name\"] == name][\"parent\"].values[0]\n",
    "        term = (\n",
    "            (variables[f\"{name}_x\"] - detected_x) ** 2\n",
    "            + (variables[f\"{name}_y\"] - detected_y) ** 2\n",
    "            + (variables[f\"{name}_z\"] - detected_z) ** 2\n",
    "        )\n",
    "        obj_fn += term"
   ]
  },
  {
   "cell_type": "code",
   "execution_count": 73,
   "metadata": {},
   "outputs": [],
   "source": [
    "for name in level_order:\n",
    "    node_info = static[static[\"name\"] == name]\n",
    "    parent = node_info[\"parent\"].values[0]\n",
    "    distance_to_parent = node_info[\"distance_to_parent\"].values[0]\n",
    "    if parent == \"root\":\n",
    "        quadratic_model.addQConstr(\n",
    "            (\n",
    "                variables[f\"{name}_x\"] ** 2\n",
    "                + variables[f\"{name}_y\"] ** 2\n",
    "                + variables[f\"{name}_z\"] ** 2\n",
    "            )\n",
    "            <= distance_to_parent**2\n",
    "        )\n",
    "    else:\n",
    "        quadratic_model.addQConstr(\n",
    "            (\n",
    "                (variables[f\"{name}_x\"] - variables[f\"{parent}_x\"]) ** 2\n",
    "                + (variables[f\"{name}_y\"] - variables[f\"{parent}_y\"]) ** 2\n",
    "                + (variables[f\"{name}_z\"] - variables[f\"{parent}_z\"]) ** 2\n",
    "            )\n",
    "            <= distance_to_parent**2\n",
    "        )"
   ]
  },
  {
   "cell_type": "code",
   "execution_count": 74,
   "metadata": {},
   "outputs": [],
   "source": [
    "quadratic_model.setObjective(obj_fn, GRB.MINIMIZE)\n"
   ]
  },
  {
   "cell_type": "code",
   "execution_count": 75,
   "metadata": {},
   "outputs": [
    {
     "name": "stdout",
     "output_type": "stream",
     "text": [
      "Gurobi Optimizer version 10.0.1 build v10.0.1rc0 (linux64)\n",
      "\n",
      "CPU model: 11th Gen Intel(R) Core(TM) i5-11500H @ 2.90GHz, instruction set [SSE2|AVX|AVX2|AVX512]\n",
      "Thread count: 6 physical cores, 12 logical processors, using up to 12 threads\n",
      "\n",
      "Optimize a model with 0 rows, 93 columns and 0 nonzeros\n",
      "Model fingerprint: 0xa2fa8c1e\n",
      "Model has 54 quadratic objective terms\n",
      "Coefficient statistics:\n",
      "  Matrix range     [0e+00, 0e+00]\n",
      "  Objective range  [6e+00, 4e+02]\n",
      "  QObjective range [2e+00, 2e+00]\n",
      "  Bounds range     [2e+02, 2e+02]\n",
      "  RHS range        [0e+00, 0e+00]\n",
      "Presolve removed 0 rows and 93 columns\n",
      "Presolve time: 0.01s\n",
      "Presolve: All rows and columns removed\n",
      "\n",
      "Barrier solved model in 0 iterations and 0.01 seconds (0.00 work units)\n",
      "Optimal objective 0.00000000e+00\n"
     ]
    }
   ],
   "source": [
    "quadratic_model.optimize()\n"
   ]
  },
  {
   "cell_type": "code",
   "execution_count": 76,
   "metadata": {},
   "outputs": [
    {
     "name": "stdout",
     "output_type": "stream",
     "text": [
      "root_cross_right_x -250.0\n",
      "root_cross_right_y -250.0\n",
      "root_cross_right_z -250.0\n",
      "root_cross_left_x -250.0\n",
      "root_cross_left_y -250.0\n",
      "root_cross_left_z -250.0\n",
      "root_cross_right2_x -250.0\n",
      "root_cross_right2_y -250.0\n",
      "root_cross_right2_z -250.0\n",
      "conn_k_x -0.0\n",
      "conn_k_y -104.0\n",
      "conn_k_z -10.0\n",
      "cross_e_x -250.0\n",
      "cross_e_y -250.0\n",
      "cross_e_z -250.0\n",
      "cross_bag_br_x -250.0\n",
      "cross_bag_br_y -250.0\n",
      "cross_bag_br_z -250.0\n",
      "cross_ij1_x -250.0\n",
      "cross_ij1_y -250.0\n",
      "cross_ij1_z -250.0\n",
      "cross_e_c_x -250.0\n",
      "cross_e_c_y -250.0\n",
      "cross_e_c_z -250.0\n",
      "cross_f_x -250.0\n",
      "cross_f_y -250.0\n",
      "cross_f_z -250.0\n",
      "bag_b_r_x 16.0\n",
      "bag_b_r_y -105.0\n",
      "bag_b_r_z -5.0\n",
      "bag_a_r_x 13.0\n",
      "bag_a_r_y -150.0\n",
      "bag_a_r_z -0.0\n",
      "conn_b_x 21.0\n",
      "conn_b_y -86.0\n",
      "conn_b_z -0.0\n",
      "cross_ij2_x -250.0\n",
      "cross_ij2_y -250.0\n",
      "cross_ij2_z -250.0\n",
      "conn_e_x -5.0\n",
      "conn_e_y -87.0\n",
      "conn_e_z -12.0\n",
      "conn_c_x -3.0\n",
      "conn_c_y -87.0\n",
      "conn_c_z -12.0\n",
      "cross_k_x -250.0\n",
      "cross_k_y -250.0\n",
      "cross_k_z -250.0\n",
      "cross_f30_x -250.0\n",
      "cross_f30_y -250.0\n",
      "cross_f30_z -250.0\n",
      "conn_i_x 16.0\n",
      "conn_i_y -75.0\n",
      "conn_i_z 3.0\n",
      "conn_j_x 22.0\n",
      "conn_j_y -73.0\n",
      "conn_j_z 3.0\n",
      "box_x -15.0\n",
      "box_y -70.0\n",
      "box_z -0.0\n",
      "conn_a_x 20.0\n",
      "conn_a_y -50.0\n",
      "conn_a_z -9.0\n",
      "conn_f_30_x 12.0\n",
      "conn_f_30_y -86.0\n",
      "conn_f_30_z -0.0\n",
      "cross_f37_x -250.0\n",
      "cross_f37_y -250.0\n",
      "cross_f37_z -250.0\n",
      "conn_f_60_x -24.0\n",
      "conn_f_60_y -120.0\n",
      "conn_f_60_z -16.0\n",
      "bag_b_l_x -20.0\n",
      "bag_b_l_y -120.0\n",
      "bag_b_l_z -10.0\n",
      "cross_gh_x -250.0\n",
      "cross_gh_y -250.0\n",
      "cross_gh_z -250.0\n",
      "conn_f_37_x 17.0\n",
      "conn_f_37_y -115.0\n",
      "conn_f_37_z -9.0\n",
      "conn_d_x 13.0\n",
      "conn_d_y -129.0\n",
      "conn_d_z -9.0\n",
      "conn_g_x -25.0\n",
      "conn_g_y -114.0\n",
      "conn_g_z -9.0\n",
      "conn_h_x -21.0\n",
      "conn_h_y -115.0\n",
      "conn_h_z -0.0\n",
      "bag_a_l_x -25.0\n",
      "bag_a_l_y -225.0\n",
      "bag_a_l_z -0.0\n"
     ]
    }
   ],
   "source": [
    "#print all variable values\n",
    "for v in quadratic_model.getVars():\n",
    "    print(v.varName, v.x)"
   ]
  },
  {
   "cell_type": "code",
   "execution_count": 77,
   "metadata": {},
   "outputs": [
    {
     "name": "stdout",
     "output_type": "stream",
     "text": [
      "Graph saved to qcqp2.html\n"
     ]
    }
   ],
   "source": [
    "import networkx as nx\n",
    "from graph_utils import plot_graph\n",
    "import numpy as np\n",
    "import pandas as pd\n",
    "from transformation_utils import (\n",
    "    get_rotation,\n",
    "    rotate_graph,\n",
    "    get_rotation_nn,\n",
    "    optim_rotation,\n",
    ")\n",
    "\n",
    "G1 = nx.Graph()\n",
    "for i in range(len(static)):\n",
    "    G1.add_node(static['name'][i], pos=(static['x'][i], static['z'][i], static['y'][i]))\n",
    "for i in range(len(static)):\n",
    "    if static['parent'][i] != 0 and static['parent'][i] != '0':\n",
    "        G1.add_edge(static['name'][i], static['parent'][i])\n",
    "\n",
    "\n",
    "G2 = nx.Graph()\n",
    "for name in level_order:\n",
    "    # if x and y and z are  different than 250 or -250\n",
    "    if variables[f\"{name}_x\"].x != 250 and variables[f\"{name}_x\"].x != -250:\n",
    "        # print(name, variables[f\"{name}_x\"].x, variables[f\"{name}_y\"].x, variables[f\"{name}_z\"].x)\n",
    "        G2.add_node(\n",
    "            name,\n",
    "            pos=(\n",
    "                variables[f\"{name}_x\"].x,\n",
    "                variables[f\"{name}_z\"].x,\n",
    "                variables[f\"{name}_y\"].x,\n",
    "            ),\n",
    "        )\n",
    "\n",
    "\n",
    "\n",
    "\n",
    "plot_graph(static_graph=G1, detected_graph=G2, name=\"qcqp2\", save=True)"
   ]
  },
  {
   "cell_type": "code",
   "execution_count": 78,
   "metadata": {},
   "outputs": [
    {
     "name": "stdout",
     "output_type": "stream",
     "text": [
      "-250.0\n"
     ]
    }
   ],
   "source": [
    "#print cross_bag_br_x\n",
    "print(variables[\"cross_bag_br_x\"].x)"
   ]
  },
  {
   "cell_type": "code",
   "execution_count": null,
   "metadata": {},
   "outputs": [],
   "source": []
  }
 ],
 "metadata": {
  "kernelspec": {
   "display_name": ".venv",
   "language": "python",
   "name": "python3"
  },
  "language_info": {
   "codemirror_mode": {
    "name": "ipython",
    "version": 3
   },
   "file_extension": ".py",
   "mimetype": "text/x-python",
   "name": "python",
   "nbconvert_exporter": "python",
   "pygments_lexer": "ipython3",
   "version": "3.10.6"
  },
  "orig_nbformat": 4
 },
 "nbformat": 4,
 "nbformat_minor": 2
}
