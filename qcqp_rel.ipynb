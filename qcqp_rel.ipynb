{
 "cells": [
  {
   "cell_type": "code",
   "execution_count": 76,
   "metadata": {},
   "outputs": [],
   "source": [
    "import networkx as nx\n",
    "from graph_utils import plot_graph\n",
    "import numpy as np\n",
    "import pandas as pd\n",
    "from gurobipy import GRB, Model"
   ]
  },
  {
   "cell_type": "code",
   "execution_count": 77,
   "metadata": {},
   "outputs": [],
   "source": [
    "static = pd.read_csv('static_with_t.csv')\n",
    "detected = pd.read_csv('randomized_graph.csv')"
   ]
  },
  {
   "cell_type": "code",
   "execution_count": 78,
   "metadata": {},
   "outputs": [],
   "source": [
    "node_name = 'conn_k'"
   ]
  },
  {
   "cell_type": "code",
   "execution_count": 79,
   "metadata": {},
   "outputs": [
    {
     "data": {
      "text/plain": [
       "{'name': 'conn_k',\n",
       " 'number': 45,\n",
       " 'x': 0.0,\n",
       " 'y': -104.0,\n",
       " 'z': -10.0,\n",
       " 'parent': 'cross_k',\n",
       " 'distance_to_parent': 56}"
      ]
     },
     "execution_count": 79,
     "metadata": {},
     "output_type": "execute_result"
    }
   ],
   "source": [
    "static_node = static[static['name'] == node_name].to_dict('records')[0]\n",
    "static_node"
   ]
  },
  {
   "cell_type": "code",
   "execution_count": 80,
   "metadata": {},
   "outputs": [
    {
     "data": {
      "text/plain": [
       "{'name': 'conn_k',\n",
       " 'number': 45,\n",
       " 'x': -3.42,\n",
       " 'y': -104.0,\n",
       " 'z': -9.4,\n",
       " 'parent': 'cross_k'}"
      ]
     },
     "execution_count": 80,
     "metadata": {},
     "output_type": "execute_result"
    }
   ],
   "source": [
    "detected_node = detected[detected['name'] == node_name].to_dict('records')[0]\n",
    "detected_node"
   ]
  },
  {
   "cell_type": "code",
   "execution_count": 81,
   "metadata": {},
   "outputs": [
    {
     "data": {
      "text/plain": [
       "{'name': 'cross_k',\n",
       " 'number': -1,\n",
       " 'x': -12.22,\n",
       " 'y': -50.0,\n",
       " 'z': 4.45,\n",
       " 'parent': 'cross_f'}"
      ]
     },
     "execution_count": 81,
     "metadata": {},
     "output_type": "execute_result"
    }
   ],
   "source": [
    "detected_parent = detected[detected['name'] == static_node['parent']].to_dict('records')[0]\n",
    "detected_parent\n"
   ]
  },
  {
   "cell_type": "code",
   "execution_count": 82,
   "metadata": {},
   "outputs": [],
   "source": [
    "parent_x = detected_parent[\"x\"]\n",
    "parent_y = detected_parent[\"y\"]\n",
    "parent_z = detected_parent[\"z\"]\n",
    "\n",
    "detected_x = detected_node[\"x\"]\n",
    "detected_y = detected_node[\"y\"]\n",
    "detected_z = detected_node[\"z\"]\n",
    "\n",
    "distance_to_parent = static_node[\"distance_to_parent\"]"
   ]
  },
  {
   "cell_type": "code",
   "execution_count": 83,
   "metadata": {},
   "outputs": [],
   "source": [
    "quadratic_model = Model('quadratic')"
   ]
  },
  {
   "cell_type": "code",
   "execution_count": 84,
   "metadata": {},
   "outputs": [],
   "source": [
    "x = quadratic_model.addVar(name = 'x', vtype=GRB.CONTINUOUS)\n",
    "y = quadratic_model.addVar(name = 'y', vtype=GRB.CONTINUOUS)\n",
    "z = quadratic_model.addVar(name = 'z', vtype=GRB.CONTINUOUS)"
   ]
  },
  {
   "cell_type": "code",
   "execution_count": 85,
   "metadata": {},
   "outputs": [
    {
     "name": "stdout",
     "output_type": "stream",
     "text": [
      "detected_x: -3.42, detected_y: -104.0, detected_z: -9.4\n",
      "parent_x: -12.22, parent_y: -50.0, parent_z: 4.45\n",
      "detected_x_rel: 8.8, detected_y_rel: -54.0, detected_z_rel: -13.850000000000001\n"
     ]
    }
   ],
   "source": [
    "detected_x_rel = detected_x - parent_x\n",
    "detected_y_rel = detected_y - parent_y\n",
    "detected_z_rel = detected_z - parent_z\n",
    "\n",
    "print(f\"detected_x: {detected_x}, detected_y: {detected_y}, detected_z: {detected_z}\")\n",
    "print(f\"parent_x: {parent_x}, parent_y: {parent_y}, parent_z: {parent_z}\")\n",
    "print(f\"detected_x_rel: {detected_x_rel}, detected_y_rel: {detected_y_rel}, detected_z_rel: {detected_z_rel}\")"
   ]
  },
  {
   "cell_type": "code",
   "execution_count": 86,
   "metadata": {},
   "outputs": [
    {
     "data": {
      "text/plain": [
       "array([ 1., -1., -1.])"
      ]
     },
     "execution_count": 86,
     "metadata": {},
     "output_type": "execute_result"
    }
   ],
   "source": [
    "sign_matrix = np.sign(np.array([detected_x_rel, detected_y_rel, detected_z_rel]))\n",
    "sign_matrix"
   ]
  },
  {
   "cell_type": "code",
   "execution_count": 87,
   "metadata": {},
   "outputs": [],
   "source": [
    "detected_x_rel = np.abs(detected_x_rel)\n",
    "detected_y_rel = np.abs(detected_y_rel)\n",
    "detected_z_rel = np.abs(detected_z_rel)"
   ]
  },
  {
   "cell_type": "code",
   "execution_count": 88,
   "metadata": {},
   "outputs": [
    {
     "data": {
      "text/plain": [
       "<gurobi.QConstr Not Yet Added>"
      ]
     },
     "execution_count": 88,
     "metadata": {},
     "output_type": "execute_result"
    }
   ],
   "source": [
    "quadratic_model.addQConstr(\n",
    "    x**2 + y**2 + z**2 <= distance_to_parent**2)"
   ]
  },
  {
   "cell_type": "code",
   "execution_count": 89,
   "metadata": {},
   "outputs": [],
   "source": [
    "obj_fn = (x - detected_x_rel)**2 + (y - detected_y_rel)**2 + (z - detected_z_rel)**2"
   ]
  },
  {
   "cell_type": "code",
   "execution_count": 90,
   "metadata": {},
   "outputs": [],
   "source": [
    "quadratic_model.setObjective(obj_fn, GRB.MINIMIZE)"
   ]
  },
  {
   "cell_type": "code",
   "execution_count": 91,
   "metadata": {},
   "outputs": [
    {
     "name": "stdout",
     "output_type": "stream",
     "text": [
      "Gurobi Optimizer version 10.0.1 build v10.0.1rc0 (linux64)\n",
      "\n",
      "CPU model: 11th Gen Intel(R) Core(TM) i5-11500H @ 2.90GHz, instruction set [SSE2|AVX|AVX2|AVX512]\n",
      "Thread count: 6 physical cores, 12 logical processors, using up to 12 threads\n",
      "\n",
      "Optimize a model with 0 rows, 3 columns and 0 nonzeros\n",
      "Model fingerprint: 0x70926744\n",
      "Model has 3 quadratic objective terms\n",
      "Model has 1 quadratic constraint\n",
      "Coefficient statistics:\n",
      "  Matrix range     [0e+00, 0e+00]\n",
      "  QMatrix range    [1e+00, 1e+00]\n",
      "  Objective range  [2e+01, 1e+02]\n",
      "  QObjective range [2e+00, 2e+00]\n",
      "  Bounds range     [0e+00, 0e+00]\n",
      "  RHS range        [0e+00, 0e+00]\n",
      "  QRHS range       [3e+03, 3e+03]\n",
      "Presolve time: 0.02s\n",
      "Presolved: 8 rows, 9 columns, 12 nonzeros\n",
      "Presolved model has 2 second-order cone constraints\n",
      "Ordering time: 0.00s\n",
      "\n",
      "Barrier statistics:\n",
      " AA' NZ     : 2.400e+01\n",
      " Factor NZ  : 3.600e+01\n",
      " Factor Ops : 2.040e+02 (less than 1 second per iteration)\n",
      " Threads    : 1\n",
      "\n",
      "                  Objective                Residual\n",
      "Iter       Primal          Dual         Primal    Dual     Compl     Time\n",
      "   0   3.18526250e+03  3.18526250e+03  4.59e+00 9.14e+01  5.17e+02     0s\n",
      "   1   2.84301560e+03  3.02204405e+03  1.53e+00 3.23e+01  1.69e+02     0s\n",
      "   2   2.87483896e+03  2.94427868e+03  1.68e-06 1.52e+01  7.97e+01     0s\n",
      "   3   2.60193326e+03  2.46313526e+03  1.28e-06 5.58e+00  4.96e+01     0s\n",
      "   4   1.83445604e+03  2.10267904e+03  1.39e-12 2.67e+00  3.25e+01     0s\n",
      "   5   1.35804504e+03  1.88413169e+03  1.17e-11 1.62e+00  1.93e+01     0s\n",
      "   6   1.08180387e+03  1.26396098e+03  8.94e-12 8.76e-01  2.95e+01     0s\n",
      "   7   6.43406810e+02  1.12382433e+03  1.96e-11 5.80e-01  1.07e+01     0s\n",
      "   8   4.63662404e+02  7.31701010e+02  6.61e-11 3.10e-01  1.09e+01     0s\n",
      "   9   2.67366996e+02  4.07722537e+02  2.24e-11 1.54e-01  9.59e+00     0s\n",
      "  10   1.38838294e+02  1.73526358e+02  3.99e-11 7.43e-02  9.58e+00     0s\n",
      "  11   3.98513256e+01  8.76590826e+01  5.66e-11 3.06e-02  2.52e+00     0s\n",
      "  12   1.81691628e+01 -1.16035093e+01  6.90e-11 2.03e-07  2.29e+00     0s\n",
      "  13   1.26539968e+01 -2.13067623e+00  6.01e-11 1.94e-08  1.14e+00     0s\n",
      "  14   2.66009081e+00 -6.63867593e-01  3.71e-11 1.14e-08  2.56e-01     0s\n",
      "  15   4.78205320e-01 -5.74719754e-01  3.57e-10 1.33e-07  8.10e-02     0s\n",
      "  16   2.89872650e-01  1.67480425e-01  4.51e-10 3.87e-07  9.41e-03     0s\n",
      "  17   1.95751205e-01  1.90205774e-01  5.89e-11 1.89e-08  4.27e-04     0s\n",
      "  18   1.92079917e-01  1.91448106e-01  2.87e-11 4.41e-10  4.86e-05     0s\n",
      "  19   1.91969086e-01  1.91955307e-01  1.06e-12 1.20e-09  1.06e-06     0s\n",
      "  20   1.91957778e-01  1.91957714e-01  8.83e-11 4.68e-08  5.24e-09     0s\n",
      "\n",
      "Barrier solved model in 20 iterations and 0.09 seconds (0.00 work units)\n",
      "Optimal objective 1.91957778e-01\n",
      "\n"
     ]
    }
   ],
   "source": [
    "quadratic_model.optimize()"
   ]
  },
  {
   "cell_type": "code",
   "execution_count": 92,
   "metadata": {},
   "outputs": [],
   "source": [
    "calc_x = quadratic_model.getVarByName('x').x\n",
    "calc_y = quadratic_model.getVarByName('y').x\n",
    "calc_z = quadratic_model.getVarByName('z').x"
   ]
  },
  {
   "cell_type": "code",
   "execution_count": 93,
   "metadata": {},
   "outputs": [],
   "source": [
    "calc_x = calc_x * sign_matrix[0]\n",
    "calc_y = calc_y * sign_matrix[1]\n",
    "calc_z = calc_z * sign_matrix[2]\n"
   ]
  },
  {
   "cell_type": "code",
   "execution_count": 94,
   "metadata": {},
   "outputs": [],
   "source": [
    "#add rel\n",
    "calc_x_f = calc_x + parent_x\n",
    "calc_y_f = calc_y + parent_y\n",
    "calc_z_f = calc_z + parent_z"
   ]
  },
  {
   "cell_type": "code",
   "execution_count": 95,
   "metadata": {},
   "outputs": [
    {
     "name": "stdout",
     "output_type": "stream",
     "text": [
      "calc_x_f: -3.488329697272931, calc_y_f: -103.58080574668253, calc_z_f: -9.292459310320204\n",
      "detected_x: -3.42, detected_y: -104.0, detected_z: -9.4\n"
     ]
    }
   ],
   "source": [
    "print(f\"calc_x_f: {calc_x_f}, calc_y_f: {calc_y_f}, calc_z_f: {calc_z_f}\")\n",
    "print(f\"detected_x: {detected_x}, detected_y: {detected_y}, detected_z: {detected_z}\")"
   ]
  },
  {
   "cell_type": "code",
   "execution_count": 96,
   "metadata": {},
   "outputs": [
    {
     "name": "stdout",
     "output_type": "stream",
     "text": [
      "Obj: 0.43813\n"
     ]
    }
   ],
   "source": [
    "print('Obj: %g' % np.sqrt(quadratic_model.objVal))"
   ]
  },
  {
   "cell_type": "code",
   "execution_count": 97,
   "metadata": {},
   "outputs": [
    {
     "name": "stdout",
     "output_type": "stream",
     "text": [
      "function value: 0.4381298648062617\n",
      "Distance to detected node: 111.06294721843395\n",
      "calculated distance to parent: 55.999999987813034\n",
      "Original distance to parent: 56\n"
     ]
    }
   ],
   "source": [
    "print(f\"function value: {np.sqrt(quadratic_model.objVal)}\")\n",
    "print(f\"Distance to detected node: {np.sqrt((calc_x-detected_x_rel)**2 + (calc_y-detected_y_rel)**2 + (calc_z-detected_z_rel)**2)}\")\n",
    "print(f\"calculated distance to parent: {np.sqrt((calc_x_f-parent_x)**2 + (calc_y_f-parent_y)**2 + (calc_z_f-parent_z)**2)}\")\n",
    "print(f\"Original distance to parent: {distance_to_parent}\")\n"
   ]
  },
  {
   "cell_type": "code",
   "execution_count": 98,
   "metadata": {},
   "outputs": [
    {
     "name": "stdout",
     "output_type": "stream",
     "text": [
      "Graph saved to qcqp.html\n"
     ]
    }
   ],
   "source": [
    "import networkx as nx\n",
    "from graph_utils import plot_graph\n",
    "import numpy as np\n",
    "import pandas as pd\n",
    "from transformation_utils import get_rotation, rotate_graph, get_rotation_nn, optim_rotation\n",
    "\n",
    "G = nx.Graph()\n",
    "G1 = nx.Graph()\n",
    "\n",
    "G.add_node('static_node', pos=(static_node['x'], static_node['z'], static_node['y']))\n",
    "G.add_node('detected_node', pos=(detected_node['x'], detected_node['z'], detected_node['y']))\n",
    "G.add_node('detected_parent', pos=(detected_parent['x'], detected_parent['z'], detected_parent['y']))\n",
    "G1.add_node('calculated_node', pos=(calc_x_f, calc_z_f, calc_y_f))\n",
    "\n",
    "plot_graph(static_graph=G, detected_graph=G1, name='qcqp', save=True)\n",
    "\n",
    "\n"
   ]
  },
  {
   "cell_type": "code",
   "execution_count": null,
   "metadata": {},
   "outputs": [],
   "source": []
  }
 ],
 "metadata": {
  "kernelspec": {
   "display_name": ".venv",
   "language": "python",
   "name": "python3"
  },
  "language_info": {
   "codemirror_mode": {
    "name": "ipython",
    "version": 3
   },
   "file_extension": ".py",
   "mimetype": "text/x-python",
   "name": "python",
   "nbconvert_exporter": "python",
   "pygments_lexer": "ipython3",
   "version": "3.8.16"
  },
  "orig_nbformat": 4
 },
 "nbformat": 4,
 "nbformat_minor": 2
}
