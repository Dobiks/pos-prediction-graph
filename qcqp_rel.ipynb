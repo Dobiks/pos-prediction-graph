{
 "cells": [
  {
   "cell_type": "code",
   "execution_count": 1,
   "metadata": {},
   "outputs": [],
   "source": [
    "import networkx as nx\n",
    "from graph_utils import plot_graph\n",
    "import numpy as np\n",
    "import pandas as pd\n",
    "from gurobipy import GRB, Model"
   ]
  },
  {
   "cell_type": "code",
   "execution_count": 2,
   "metadata": {},
   "outputs": [],
   "source": [
    "static = pd.read_csv('static_with_t.csv')\n",
    "detected = pd.read_csv('randomized_graph.csv')"
   ]
  },
  {
   "cell_type": "code",
   "execution_count": 3,
   "metadata": {},
   "outputs": [],
   "source": [
    "node_name = 'conn_f_30'"
   ]
  },
  {
   "cell_type": "code",
   "execution_count": 4,
   "metadata": {},
   "outputs": [
    {
     "data": {
      "text/plain": [
       "{'name': 'conn_f_30',\n",
       " 'number': 30,\n",
       " 'x': 12.0,\n",
       " 'y': -86.0,\n",
       " 'z': 0.0,\n",
       " 'parent': 'cross_f30',\n",
       " 'distance_to_parent': 39}"
      ]
     },
     "execution_count": 4,
     "metadata": {},
     "output_type": "execute_result"
    }
   ],
   "source": [
    "static_node = static[static['name'] == node_name].to_dict('records')[0]\n",
    "static_node"
   ]
  },
  {
   "cell_type": "code",
   "execution_count": 5,
   "metadata": {},
   "outputs": [
    {
     "data": {
      "text/plain": [
       "{'name': 'conn_f_30',\n",
       " 'number': 30,\n",
       " 'x': 11.28,\n",
       " 'y': -86.0,\n",
       " 'z': -4.1,\n",
       " 'parent': 'cross_f30'}"
      ]
     },
     "execution_count": 5,
     "metadata": {},
     "output_type": "execute_result"
    }
   ],
   "source": [
    "detected_node = detected[detected['name'] == node_name].to_dict('records')[0]\n",
    "detected_node"
   ]
  },
  {
   "cell_type": "code",
   "execution_count": 6,
   "metadata": {},
   "outputs": [
    {
     "data": {
      "text/plain": [
       "{'name': 'cross_f30',\n",
       " 'number': -1,\n",
       " 'x': -2.82,\n",
       " 'y': -50.0,\n",
       " 'z': 1.03,\n",
       " 'parent': 'cross_f'}"
      ]
     },
     "execution_count": 6,
     "metadata": {},
     "output_type": "execute_result"
    }
   ],
   "source": [
    "detected_parent = detected[detected['name'] == static_node['parent']].to_dict('records')[0]\n",
    "detected_parent\n"
   ]
  },
  {
   "cell_type": "code",
   "execution_count": 7,
   "metadata": {},
   "outputs": [],
   "source": [
    "parent_x = detected_parent[\"x\"]\n",
    "parent_y = detected_parent[\"y\"]\n",
    "parent_z = detected_parent[\"z\"]\n",
    "\n",
    "detected_x = detected_node[\"x\"]\n",
    "detected_y = detected_node[\"y\"]\n",
    "detected_z = detected_node[\"z\"]\n",
    "\n",
    "distance_to_parent = static_node[\"distance_to_parent\"]"
   ]
  },
  {
   "cell_type": "code",
   "execution_count": 8,
   "metadata": {},
   "outputs": [
    {
     "name": "stdout",
     "output_type": "stream",
     "text": [
      "Restricted license - for non-production use only - expires 2024-10-28\n"
     ]
    }
   ],
   "source": [
    "quadratic_model = Model('quadratic')"
   ]
  },
  {
   "cell_type": "code",
   "execution_count": 9,
   "metadata": {},
   "outputs": [],
   "source": [
    "x = quadratic_model.addVar(name = 'x', vtype=GRB.CONTINUOUS)\n",
    "y = quadratic_model.addVar(name = 'y', vtype=GRB.CONTINUOUS)\n",
    "z = quadratic_model.addVar(name = 'z', vtype=GRB.CONTINUOUS)"
   ]
  },
  {
   "cell_type": "code",
   "execution_count": 10,
   "metadata": {},
   "outputs": [
    {
     "name": "stdout",
     "output_type": "stream",
     "text": [
      "detected_x: 11.28, detected_y: -86.0, detected_z: -4.1\n",
      "parent_x: -2.82, parent_y: -50.0, parent_z: 1.03\n",
      "detected_x_rel: 14.1, detected_y_rel: -36.0, detected_z_rel: -5.13\n"
     ]
    }
   ],
   "source": [
    "detected_x_rel = detected_x - parent_x\n",
    "detected_y_rel = detected_y - parent_y\n",
    "detected_z_rel = detected_z - parent_z\n",
    "\n",
    "print(f\"detected_x: {detected_x}, detected_y: {detected_y}, detected_z: {detected_z}\")\n",
    "print(f\"parent_x: {parent_x}, parent_y: {parent_y}, parent_z: {parent_z}\")\n",
    "print(f\"detected_x_rel: {detected_x_rel}, detected_y_rel: {detected_y_rel}, detected_z_rel: {detected_z_rel}\")"
   ]
  },
  {
   "cell_type": "code",
   "execution_count": 11,
   "metadata": {},
   "outputs": [
    {
     "data": {
      "text/plain": [
       "<gurobi.QConstr Not Yet Added>"
      ]
     },
     "execution_count": 11,
     "metadata": {},
     "output_type": "execute_result"
    }
   ],
   "source": [
    "quadratic_model.addQConstr(\n",
    "    x**2 + y**2 + z**2 <= distance_to_parent**2)"
   ]
  },
  {
   "cell_type": "code",
   "execution_count": 12,
   "metadata": {},
   "outputs": [
    {
     "data": {
      "text/plain": [
       "39"
      ]
     },
     "execution_count": 12,
     "metadata": {},
     "output_type": "execute_result"
    }
   ],
   "source": [
    "distance_to_parent"
   ]
  },
  {
   "cell_type": "code",
   "execution_count": 13,
   "metadata": {},
   "outputs": [
    {
     "data": {
      "text/plain": [
       "14.1"
      ]
     },
     "execution_count": 13,
     "metadata": {},
     "output_type": "execute_result"
    }
   ],
   "source": [
    "detected_x_rel"
   ]
  },
  {
   "cell_type": "code",
   "execution_count": 14,
   "metadata": {},
   "outputs": [
    {
     "data": {
      "text/plain": [
       "-36.0"
      ]
     },
     "execution_count": 14,
     "metadata": {},
     "output_type": "execute_result"
    }
   ],
   "source": [
    "detected_y_rel"
   ]
  },
  {
   "cell_type": "code",
   "execution_count": 15,
   "metadata": {},
   "outputs": [
    {
     "data": {
      "text/plain": [
       "-5.13"
      ]
     },
     "execution_count": 15,
     "metadata": {},
     "output_type": "execute_result"
    }
   ],
   "source": [
    "detected_z_rel"
   ]
  },
  {
   "cell_type": "code",
   "execution_count": 16,
   "metadata": {},
   "outputs": [],
   "source": [
    "obj_fn = (x - detected_x_rel)**2 + (y - detected_y_rel)**2 + (z - detected_z_rel)**2"
   ]
  },
  {
   "cell_type": "code",
   "execution_count": 17,
   "metadata": {},
   "outputs": [],
   "source": [
    "quadratic_model.setObjective(obj_fn, GRB.MINIMIZE)"
   ]
  },
  {
   "cell_type": "code",
   "execution_count": 18,
   "metadata": {},
   "outputs": [
    {
     "name": "stdout",
     "output_type": "stream",
     "text": [
      "Gurobi Optimizer version 10.0.1 build v10.0.1rc0 (linux64)\n",
      "\n",
      "CPU model: 11th Gen Intel(R) Core(TM) i5-11500H @ 2.90GHz, instruction set [SSE2|AVX|AVX2|AVX512]\n",
      "Thread count: 6 physical cores, 12 logical processors, using up to 12 threads\n",
      "\n",
      "Optimize a model with 0 rows, 3 columns and 0 nonzeros\n",
      "Model fingerprint: 0x7f43b456\n",
      "Model has 3 quadratic objective terms\n",
      "Model has 1 quadratic constraint\n",
      "Coefficient statistics:\n",
      "  Matrix range     [0e+00, 0e+00]\n",
      "  QMatrix range    [1e+00, 1e+00]\n",
      "  Objective range  [1e+01, 7e+01]\n",
      "  QObjective range [2e+00, 2e+00]\n",
      "  Bounds range     [0e+00, 0e+00]\n",
      "  RHS range        [0e+00, 0e+00]\n",
      "  QRHS range       [2e+03, 2e+03]\n",
      "Presolve time: 0.02s\n",
      "Presolved: 8 rows, 9 columns, 12 nonzeros\n",
      "Presolved model has 2 second-order cone constraints\n",
      "Ordering time: 0.00s\n",
      "\n",
      "Barrier statistics:\n",
      " AA' NZ     : 2.400e+01\n",
      " Factor NZ  : 3.600e+01\n",
      " Factor Ops : 2.040e+02 (less than 1 second per iteration)\n",
      " Threads    : 1\n",
      "\n",
      "                  Objective                Residual\n",
      "Iter       Primal          Dual         Primal    Dual     Compl     Time\n",
      "   0   1.52112690e+03  1.52112690e+03  2.42e+00 6.30e+01  2.44e+02     0s\n",
      "   1   1.48926394e+03  1.47661230e+03  1.45e-01 1.44e+01  4.83e+01     0s\n",
      "   2   1.47067341e+03  1.47732464e+03  2.79e-02 4.19e+00  1.40e+01     0s\n",
      "   3   1.43776398e+03  1.46994303e+03  3.07e-08 2.63e+00  8.64e+00     0s\n",
      "   4   1.42767187e+03  1.45803658e+03  2.28e-13 1.96e+00  7.35e+00     0s\n",
      "   5   1.38467486e+03  1.31155623e+03  5.68e-14 4.21e-01  8.38e+00     0s\n",
      "   6   1.37006785e+03  1.33473476e+03  3.55e-14 2.29e-01  4.54e+00     0s\n",
      "   7   1.32985911e+03  1.33142331e+03  5.68e-14 1.09e-01  1.41e+00     0s\n",
      "   8   1.32377317e+03  1.32320427e+03  2.86e-13 1.21e-02  2.46e-01     0s\n",
      "   9   1.32235684e+03  1.32189583e+03  5.38e-13 1.32e-08  3.55e-02     0s\n",
      "  10   1.32233289e+03  1.32230976e+03  9.59e-14 6.24e-10  1.78e-03     0s\n",
      "  11   1.32231699e+03  1.32231378e+03  1.09e-11 1.07e-09  2.47e-04     0s\n",
      "  12   1.32231690e+03  1.32231690e+03  5.22e-11 3.02e-09  5.59e-07     0s\n",
      "\n",
      "Barrier solved model in 12 iterations and 0.05 seconds (0.00 work units)\n",
      "Optimal objective 1.32231690e+03\n",
      "\n"
     ]
    }
   ],
   "source": [
    "quadratic_model.optimize()"
   ]
  },
  {
   "cell_type": "code",
   "execution_count": 19,
   "metadata": {},
   "outputs": [],
   "source": [
    "calc_x = quadratic_model.getVarByName('x').x\n",
    "calc_y = quadratic_model.getVarByName('y').x\n",
    "calc_z = quadratic_model.getVarByName('z').x"
   ]
  },
  {
   "cell_type": "code",
   "execution_count": 20,
   "metadata": {},
   "outputs": [],
   "source": [
    "#add rel\n",
    "calc_x_f = calc_x + parent_x\n",
    "calc_y_f = calc_y + parent_y\n",
    "calc_z_f = calc_z + parent_z"
   ]
  },
  {
   "cell_type": "code",
   "execution_count": 21,
   "metadata": {},
   "outputs": [
    {
     "name": "stdout",
     "output_type": "stream",
     "text": [
      "calc_x: 14.09941009378733, calc_y: 1.5891274714609427e-10, calc_z: 9.117020055937355e-10\n",
      "detected_x_rel: 14.1, detected_y_rel: -36.0, detected_z_rel: -5.13\n",
      "calc_x_f: 11.27941009378733, calc_y_f: -49.99999999984109, calc_z_f: 1.030000000911702\n",
      "detected_x: 11.28, detected_y: -86.0, detected_z: -4.1\n",
      "parent_x: -2.82, parent_y: -50.0, parent_z: 1.03\n"
     ]
    }
   ],
   "source": [
    "print(f\"calc_x: {calc_x}, calc_y: {calc_y}, calc_z: {calc_z}\")\n",
    "print(f\"detected_x_rel: {detected_x_rel}, detected_y_rel: {detected_y_rel}, detected_z_rel: {detected_z_rel}\")\n",
    "print(f\"calc_x_f: {calc_x_f}, calc_y_f: {calc_y_f}, calc_z_f: {calc_z_f}\")\n",
    "print(f\"detected_x: {detected_x}, detected_y: {detected_y}, detected_z: {detected_z}\")\n",
    "print(f\"parent_x: {parent_x}, parent_y: {parent_y}, parent_z: {parent_z}\")"
   ]
  },
  {
   "cell_type": "code",
   "execution_count": 22,
   "metadata": {},
   "outputs": [
    {
     "name": "stdout",
     "output_type": "stream",
     "text": [
      "Obj: 36.3637\n"
     ]
    }
   ],
   "source": [
    "print('Obj: %g' % np.sqrt(quadratic_model.objVal))"
   ]
  },
  {
   "cell_type": "code",
   "execution_count": 23,
   "metadata": {},
   "outputs": [
    {
     "name": "stdout",
     "output_type": "stream",
     "text": [
      "function value: 36.36367560821755\n",
      "Distance to detected node: 36.36367556186785\n",
      "calculated distance to parent: 14.09941009378733\n",
      "Original distance to parent: 39\n"
     ]
    }
   ],
   "source": [
    "print(f\"function value: {np.sqrt(quadratic_model.objVal)}\")\n",
    "print(f\"Distance to detected node: {np.sqrt((calc_x-detected_x_rel)**2 + (calc_y-detected_y_rel)**2 + (calc_z-detected_z_rel)**2)}\")\n",
    "print(f\"calculated distance to parent: {np.sqrt((calc_x_f-parent_x)**2 + (calc_y_f-parent_y)**2 + (calc_z_f-parent_z)**2)}\")\n",
    "print(f\"Original distance to parent: {distance_to_parent}\")\n"
   ]
  },
  {
   "cell_type": "code",
   "execution_count": 24,
   "metadata": {},
   "outputs": [
    {
     "name": "stdout",
     "output_type": "stream",
     "text": [
      "Graph saved to qcqp.html\n"
     ]
    }
   ],
   "source": [
    "import networkx as nx\n",
    "from graph_utils import plot_graph\n",
    "import numpy as np\n",
    "import pandas as pd\n",
    "from transformation_utils import get_rotation, rotate_graph, get_rotation_nn, optim_rotation\n",
    "\n",
    "G = nx.Graph()\n",
    "\n",
    "G.add_node('static_node', pos=(static_node['x'], static_node['z'], static_node['y']))\n",
    "G.add_node('detected_node', pos=(detected_node['x'], detected_node['z'], detected_node['y']))\n",
    "G.add_node('detected_parent', pos=(detected_parent['x'], detected_parent['z'], detected_parent['y']))\n",
    "G.add_node('calculated_node', pos=(calc_x_f, calc_z_f, calc_y_f))\n",
    "\n",
    "plot_graph(static_graph=G, detected_graph=None, name='qcqp', save=True)\n",
    "\n",
    "\n"
   ]
  },
  {
   "cell_type": "code",
   "execution_count": null,
   "metadata": {},
   "outputs": [],
   "source": []
  }
 ],
 "metadata": {
  "kernelspec": {
   "display_name": ".venv",
   "language": "python",
   "name": "python3"
  },
  "language_info": {
   "codemirror_mode": {
    "name": "ipython",
    "version": 3
   },
   "file_extension": ".py",
   "mimetype": "text/x-python",
   "name": "python",
   "nbconvert_exporter": "python",
   "pygments_lexer": "ipython3",
   "version": "3.8.16"
  },
  "orig_nbformat": 4
 },
 "nbformat": 4,
 "nbformat_minor": 2
}
