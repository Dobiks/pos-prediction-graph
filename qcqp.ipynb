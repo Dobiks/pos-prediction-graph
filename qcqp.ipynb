{
 "cells": [
  {
   "cell_type": "code",
   "execution_count": 87,
   "metadata": {},
   "outputs": [],
   "source": [
    "import networkx as nx\n",
    "from graph_utils import plot_graph\n",
    "import numpy as np\n",
    "import pandas as pd\n",
    "# from docplex.mp.model import Model\n",
    "from gurobipy import GRB, Model"
   ]
  },
  {
   "cell_type": "code",
   "execution_count": 88,
   "metadata": {},
   "outputs": [],
   "source": [
    "static = pd.read_csv('static_with_t.csv')\n",
    "detected = pd.read_csv('randomized_graph.csv')"
   ]
  },
  {
   "cell_type": "code",
   "execution_count": 89,
   "metadata": {},
   "outputs": [],
   "source": [
    "#row with name = 'root_cross_right' to dict\n",
    "static_node = static[static['name'] == 'root_cross_right'].to_dict('records')[0]"
   ]
  },
  {
   "cell_type": "code",
   "execution_count": 90,
   "metadata": {},
   "outputs": [
    {
     "data": {
      "text/plain": [
       "{'name': 'root_cross_right',\n",
       " 'number': -1,\n",
       " 'x': 10.0,\n",
       " 'y': 1.0,\n",
       " 'z': 0.0,\n",
       " 'parent': 'root',\n",
       " 'distance_to_parent': 10}"
      ]
     },
     "execution_count": 90,
     "metadata": {},
     "output_type": "execute_result"
    }
   ],
   "source": [
    "static_node"
   ]
  },
  {
   "cell_type": "code",
   "execution_count": 91,
   "metadata": {},
   "outputs": [],
   "source": [
    "detected_node = detected[detected['name'] == 'root_cross_right'].to_dict('records')[0]"
   ]
  },
  {
   "cell_type": "code",
   "execution_count": 92,
   "metadata": {},
   "outputs": [],
   "source": [
    "detected_node['x']=12"
   ]
  },
  {
   "cell_type": "code",
   "execution_count": 93,
   "metadata": {},
   "outputs": [
    {
     "data": {
      "text/plain": [
       "{'name': 'root_cross_right', 'number': -1, 'x': 12, 'y': 1.0, 'z': 7.55}"
      ]
     },
     "execution_count": 93,
     "metadata": {},
     "output_type": "execute_result"
    }
   ],
   "source": [
    "detected_node"
   ]
  },
  {
   "cell_type": "code",
   "execution_count": 94,
   "metadata": {},
   "outputs": [],
   "source": [
    "# quadratic_model = Model(name='quadratic')\n",
    "quadratic_model = Model('quadratic')"
   ]
  },
  {
   "cell_type": "code",
   "execution_count": 95,
   "metadata": {},
   "outputs": [],
   "source": [
    "# x = quadratic_model.continuous_var(name = 'x')\n",
    "# y = quadratic_model.continuous_var(name = 'y')\n",
    "# z = quadratic_model.continuous_var(name = 'z')\n",
    "\n",
    "x = quadratic_model.addVar(name = 'x', vtype=GRB.CONTINUOUS)\n",
    "y = quadratic_model.addVar(name = 'y', vtype=GRB.CONTINUOUS)\n",
    "z = quadratic_model.addVar(name = 'z', vtype=GRB.CONTINUOUS)"
   ]
  },
  {
   "cell_type": "code",
   "execution_count": 96,
   "metadata": {},
   "outputs": [
    {
     "data": {
      "text/plain": [
       "<gurobi.QConstr Not Yet Added>"
      ]
     },
     "execution_count": 96,
     "metadata": {},
     "output_type": "execute_result"
    }
   ],
   "source": [
    "# quadratic_model.add(\n",
    "#     x**2 + y**2 + z**2 <= static_node[\"distance_to_parent\"] ** 2\n",
    "# )  # to dziala tylko dla tego noda bo parent ma pos 0,0,0\n",
    "\n",
    "quadratic_model.addQConstr(\n",
    "    x**2 + y**2 + z**2 <= static_node[\"distance_to_parent\"] ** 2\n",
    ")  # to dziala tylko dla tego noda bo parent ma pos 0,0,0"
   ]
  },
  {
   "cell_type": "code",
   "execution_count": 97,
   "metadata": {},
   "outputs": [],
   "source": [
    "obj_fn = (x-static_node[\"x\"])**2 + (y-static_node[\"y\"])**2 + (z-static_node[\"z\"])**2"
   ]
  },
  {
   "cell_type": "code",
   "execution_count": 98,
   "metadata": {},
   "outputs": [],
   "source": [
    "# quadratic_model.set_objective('min', obj_fn)\n",
    "\n",
    "quadratic_model.setObjective(obj_fn, GRB.MINIMIZE)"
   ]
  },
  {
   "cell_type": "code",
   "execution_count": 99,
   "metadata": {},
   "outputs": [
    {
     "name": "stdout",
     "output_type": "stream",
     "text": [
      "Gurobi Optimizer version 10.0.1 build v10.0.1rc0 (linux64)\n",
      "\n",
      "CPU model: Intel(R) Core(TM) i5-8365U CPU @ 1.60GHz, instruction set [SSE2|AVX|AVX2]\n",
      "Thread count: 4 physical cores, 8 logical processors, using up to 8 threads\n",
      "\n",
      "Optimize a model with 0 rows, 3 columns and 0 nonzeros\n",
      "Model fingerprint: 0xb640c0be\n",
      "Model has 3 quadratic objective terms\n",
      "Model has 1 quadratic constraint\n",
      "Coefficient statistics:\n",
      "  Matrix range     [0e+00, 0e+00]\n",
      "  QMatrix range    [1e+00, 1e+00]\n",
      "  Objective range  [2e+00, 2e+01]\n",
      "  QObjective range [2e+00, 2e+00]\n",
      "  Bounds range     [0e+00, 0e+00]\n",
      "  RHS range        [0e+00, 0e+00]\n",
      "  QRHS range       [1e+02, 1e+02]\n",
      "Presolve time: 0.05s\n",
      "Presolved: 8 rows, 9 columns, 12 nonzeros\n",
      "Presolved model has 2 second-order cone constraints\n",
      "Ordering time: 0.00s\n",
      "\n",
      "Barrier statistics:\n",
      " AA' NZ     : 2.400e+01\n",
      " Factor NZ  : 3.600e+01\n",
      " Factor Ops : 2.040e+02 (less than 1 second per iteration)\n",
      " Threads    : 1\n",
      "\n",
      "                  Objective                Residual\n",
      "Iter       Primal          Dual         Primal    Dual     Compl     Time\n",
      "   0   1.01000000e+02  1.01000000e+02  5.12e-01 1.59e+01  1.65e+01     0s\n",
      "   1   8.75894728e+01  9.21153766e+01  4.62e-02 6.10e+00  5.38e+00     0s\n",
      "   2   7.99553309e+01  8.71296273e+01  5.09e-08 4.07e+00  3.68e+00     0s\n",
      "   3   6.24130181e+01  7.02388474e+01  6.22e-14 2.24e+00  2.50e+00     0s\n",
      "   4   2.86905479e+01  4.19198429e+01  1.01e-13 6.52e-01  1.00e+00     0s\n",
      "   5   1.42097926e+01  2.69176269e+01  1.70e-13 3.45e-01  5.48e-01     0s\n",
      "   6   1.04905399e+01 -1.97320891e+00  1.27e-12 3.79e-07  9.59e-01     0s\n",
      "   7   9.85044123e-02 -8.72390742e-02  1.42e-14 3.08e-08  1.43e-02     0s\n",
      "   8   7.88559193e-03  6.08498874e-04  4.02e-12 3.11e-11  5.60e-04     0s\n",
      "   9   2.94305520e-03  1.81093072e-03  6.22e-11 2.43e-10  8.71e-05     0s\n",
      "  10   2.54964882e-03  2.31908045e-03  4.09e-14 9.61e-11  1.77e-05     0s\n",
      "  11   2.49016970e-03  2.48403507e-03  2.60e-10 1.84e-09  4.72e-07     0s\n",
      "\n",
      "Barrier solved model in 11 iterations and 0.14 seconds (0.00 work units)\n",
      "Optimal objective 2.49016970e-03\n",
      "\n"
     ]
    }
   ],
   "source": [
    "# quadratic_model.print_information()\n",
    "\n",
    "quadratic_model.optimize()"
   ]
  },
  {
   "cell_type": "code",
   "execution_count": 100,
   "metadata": {},
   "outputs": [
    {
     "name": "stdout",
     "output_type": "stream",
     "text": [
      "x 9.95037\n",
      "y 0.99503\n",
      "z 0.00128799\n"
     ]
    }
   ],
   "source": [
    "for v in quadratic_model.getVars():\n",
    "    print('%s %g' % (v.varName, v.x))"
   ]
  },
  {
   "cell_type": "code",
   "execution_count": null,
   "metadata": {},
   "outputs": [],
   "source": []
  }
 ],
 "metadata": {
  "kernelspec": {
   "display_name": ".venv",
   "language": "python",
   "name": "python3"
  },
  "language_info": {
   "codemirror_mode": {
    "name": "ipython",
    "version": 3
   },
   "file_extension": ".py",
   "mimetype": "text/x-python",
   "name": "python",
   "nbconvert_exporter": "python",
   "pygments_lexer": "ipython3",
   "version": "3.10.4"
  },
  "orig_nbformat": 4
 },
 "nbformat": 4,
 "nbformat_minor": 2
}
