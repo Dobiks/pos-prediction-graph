{
 "cells": [
  {
   "cell_type": "code",
   "execution_count": 7,
   "metadata": {},
   "outputs": [],
   "source": [
    "import networkx as nx\n",
    "from graph_utils import plot_graph\n",
    "import numpy as np\n",
    "import pandas as pd\n",
    "# from docplex.mp.model import Model\n",
    "from gurobipy import GRB, Model"
   ]
  },
  {
   "cell_type": "code",
   "execution_count": 8,
   "metadata": {},
   "outputs": [],
   "source": [
    "static = pd.read_csv('static_with_t.csv')\n",
    "detected = pd.read_csv('randomized_graph.csv')"
   ]
  },
  {
   "cell_type": "code",
   "execution_count": 9,
   "metadata": {},
   "outputs": [],
   "source": [
    "node_name = 'root_cross_left'"
   ]
  },
  {
   "cell_type": "code",
   "execution_count": 10,
   "metadata": {},
   "outputs": [],
   "source": [
    "static_node = static[static['name'] == node_name].to_dict('records')[0]"
   ]
  },
  {
   "cell_type": "code",
   "execution_count": 11,
   "metadata": {},
   "outputs": [
    {
     "data": {
      "text/plain": [
       "{'name': 'root_cross_left',\n",
       " 'number': -2,\n",
       " 'x': -13.0,\n",
       " 'y': -20.0,\n",
       " 'z': 0.0,\n",
       " 'parent': 'root',\n",
       " 'distance_to_parent': 24}"
      ]
     },
     "execution_count": 11,
     "metadata": {},
     "output_type": "execute_result"
    }
   ],
   "source": [
    "static_node"
   ]
  },
  {
   "cell_type": "code",
   "execution_count": 12,
   "metadata": {},
   "outputs": [],
   "source": [
    "detected_node = detected[detected['name'] == node_name].to_dict('records')[0]"
   ]
  },
  {
   "cell_type": "code",
   "execution_count": 13,
   "metadata": {},
   "outputs": [],
   "source": [
    "# detected_node['x']=12"
   ]
  },
  {
   "cell_type": "code",
   "execution_count": 14,
   "metadata": {},
   "outputs": [
    {
     "data": {
      "text/plain": [
       "{'name': 'root_cross_left',\n",
       " 'number': -2,\n",
       " 'x': -12.22,\n",
       " 'y': -20.0,\n",
       " 'z': 4.45,\n",
       " 'parent': 'root'}"
      ]
     },
     "execution_count": 14,
     "metadata": {},
     "output_type": "execute_result"
    }
   ],
   "source": [
    "detected_node"
   ]
  },
  {
   "cell_type": "code",
   "execution_count": 15,
   "metadata": {},
   "outputs": [
    {
     "name": "stdout",
     "output_type": "stream",
     "text": [
      "Restricted license - for non-production use only - expires 2024-10-28\n"
     ]
    }
   ],
   "source": [
    "# quadratic_model = Model(name='quadratic')\n",
    "quadratic_model = Model('quadratic')"
   ]
  },
  {
   "cell_type": "code",
   "execution_count": 16,
   "metadata": {},
   "outputs": [],
   "source": [
    "# x = quadratic_model.continuous_var(name = 'x')\n",
    "# y = quadratic_model.continuous_var(name = 'y')\n",
    "# z = quadratic_model.continuous_var(name = 'z')\n",
    "\n",
    "x = quadratic_model.addVar(name = 'x', vtype=GRB.CONTINUOUS)\n",
    "y = quadratic_model.addVar(name = 'y', vtype=GRB.CONTINUOUS)\n",
    "z = quadratic_model.addVar(name = 'z', vtype=GRB.CONTINUOUS)"
   ]
  },
  {
   "cell_type": "code",
   "execution_count": 17,
   "metadata": {},
   "outputs": [
    {
     "data": {
      "text/plain": [
       "<gurobi.QConstr Not Yet Added>"
      ]
     },
     "execution_count": 17,
     "metadata": {},
     "output_type": "execute_result"
    }
   ],
   "source": [
    "# quadratic_model.add(\n",
    "#     x**2 + y**2 + z**2 <= static_node[\"distance_to_parent\"] ** 2\n",
    "# )  # to dziala tylko dla tego noda bo parent ma pos 0,0,0\n",
    "\n",
    "quadratic_model.addQConstr(\n",
    "    x**2 + y**2 + z**2 <= static_node[\"distance_to_parent\"] ** 2\n",
    ")  # to dziala tylko dla tego noda bo parent ma pos 0,0,0"
   ]
  },
  {
   "cell_type": "code",
   "execution_count": 18,
   "metadata": {},
   "outputs": [],
   "source": [
    "obj_fn = (x-static_node[\"x\"])**2 + (y-static_node[\"y\"])**2 + (z-static_node[\"z\"])**2"
   ]
  },
  {
   "cell_type": "code",
   "execution_count": 19,
   "metadata": {},
   "outputs": [],
   "source": [
    "# quadratic_model.set_objective('min', obj_fn)\n",
    "\n",
    "quadratic_model.setObjective(obj_fn, GRB.MINIMIZE)"
   ]
  },
  {
   "cell_type": "code",
   "execution_count": 20,
   "metadata": {},
   "outputs": [
    {
     "name": "stdout",
     "output_type": "stream",
     "text": [
      "Gurobi Optimizer version 10.0.1 build v10.0.1rc0 (linux64)\n",
      "\n",
      "CPU model: 11th Gen Intel(R) Core(TM) i5-11500H @ 2.90GHz, instruction set [SSE2|AVX|AVX2|AVX512]\n",
      "Thread count: 6 physical cores, 12 logical processors, using up to 12 threads\n",
      "\n",
      "Optimize a model with 0 rows, 3 columns and 0 nonzeros\n",
      "Model fingerprint: 0x9d557401\n",
      "Model has 3 quadratic objective terms\n",
      "Model has 1 quadratic constraint\n",
      "Coefficient statistics:\n",
      "  Matrix range     [0e+00, 0e+00]\n",
      "  QMatrix range    [1e+00, 1e+00]\n",
      "  Objective range  [3e+01, 4e+01]\n",
      "  QObjective range [2e+00, 2e+00]\n",
      "  Bounds range     [0e+00, 0e+00]\n",
      "  RHS range        [0e+00, 0e+00]\n",
      "  QRHS range       [6e+02, 6e+02]\n",
      "Presolve time: 0.02s\n",
      "Presolved: 8 rows, 9 columns, 12 nonzeros\n",
      "Presolved model has 2 second-order cone constraints\n",
      "Ordering time: 0.00s\n",
      "\n",
      "Barrier statistics:\n",
      " AA' NZ     : 2.400e+01\n",
      " Factor NZ  : 3.600e+01\n",
      " Factor Ops : 2.040e+02 (less than 1 second per iteration)\n",
      " Threads    : 1\n",
      "\n",
      "                  Objective                Residual\n",
      "Iter       Primal          Dual         Primal    Dual     Compl     Time\n",
      "   0   5.69000000e+02  5.69000000e+02  1.24e+00 3.83e+01  9.16e+01     0s\n",
      "   1   5.77154980e+02  5.55989809e+02  1.36e-06 4.69e+00  1.05e+01     0s\n",
      "   2   5.69548458e+02  5.68287361e+02  1.50e-12 2.38e-02  1.41e-01     0s\n",
      "   3   5.69256594e+02  5.68951281e+02  1.29e-15 2.28e-04  2.39e-02     0s\n",
      "   4   5.69005515e+02  5.68979215e+02  8.66e-15 2.51e-10  2.02e-03     0s\n",
      "   5   5.69002339e+02  5.68998641e+02  1.33e-15 3.68e-11  2.84e-04     0s\n",
      "   6   5.69000250e+02  5.68999213e+02  2.19e-13 2.22e-16  7.98e-05     0s\n",
      "   7   5.69000034e+02  5.68999974e+02  4.00e-15 3.55e-15  4.61e-06     0s\n",
      "   8   5.69000003e+02  5.68999983e+02  4.06e-11 6.80e-13  1.55e-06     0s\n",
      "   9   5.69000002e+02  5.68999999e+02  2.68e-11 5.03e-12  1.76e-07     0s\n",
      "  10   5.69000000e+02  5.69000000e+02  8.59e-10 1.29e-13  3.97e-08     0s\n",
      "\n",
      "Barrier solved model in 10 iterations and 0.04 seconds (0.00 work units)\n",
      "Optimal objective 5.69000000e+02\n",
      "\n"
     ]
    }
   ],
   "source": [
    "# quadratic_model.print_information()\n",
    "\n",
    "quadratic_model.optimize()"
   ]
  },
  {
   "cell_type": "code",
   "execution_count": 21,
   "metadata": {},
   "outputs": [
    {
     "name": "stdout",
     "output_type": "stream",
     "text": [
      "x 7.96198e-11\n",
      "y 5.1759e-11\n",
      "z 0.000332386\n"
     ]
    }
   ],
   "source": [
    "for v in quadratic_model.getVars():\n",
    "    print('%s %g' % (v.varName, v.x))"
   ]
  },
  {
   "cell_type": "code",
   "execution_count": 22,
   "metadata": {},
   "outputs": [],
   "source": [
    "calc_x = quadratic_model.getVarByName('x').x\n",
    "calc_y = quadratic_model.getVarByName('y').x\n",
    "calc_z = quadratic_model.getVarByName('z').x"
   ]
  },
  {
   "cell_type": "code",
   "execution_count": 23,
   "metadata": {},
   "outputs": [],
   "source": [
    "f_x_y_z = np.sqrt((calc_x-static_node[\"x\"])**2 + (calc_y-static_node[\"y\"])**2 + (calc_z-static_node[\"z\"])**2)"
   ]
  },
  {
   "cell_type": "code",
   "execution_count": 24,
   "metadata": {},
   "outputs": [
    {
     "data": {
      "text/plain": [
       "23.853720886155706"
      ]
     },
     "execution_count": 24,
     "metadata": {},
     "output_type": "execute_result"
    }
   ],
   "source": [
    "f_x_y_z"
   ]
  },
  {
   "cell_type": "code",
   "execution_count": 25,
   "metadata": {},
   "outputs": [
    {
     "data": {
      "text/plain": [
       "0.0003323859407984909"
      ]
     },
     "execution_count": 25,
     "metadata": {},
     "output_type": "execute_result"
    }
   ],
   "source": [
    "calc_distance = np.sqrt(calc_x**2 + calc_y**2 + calc_z**2)\n",
    "calc_distance"
   ]
  },
  {
   "cell_type": "code",
   "execution_count": 26,
   "metadata": {},
   "outputs": [
    {
     "name": "stdout",
     "output_type": "stream",
     "text": [
      "Obj: 23.8537\n"
     ]
    }
   ],
   "source": [
    "print('Obj: %g' % np.sqrt(quadratic_model.objVal))"
   ]
  },
  {
   "cell_type": "code",
   "execution_count": null,
   "metadata": {},
   "outputs": [],
   "source": []
  }
 ],
 "metadata": {
  "kernelspec": {
   "display_name": ".venv",
   "language": "python",
   "name": "python3"
  },
  "language_info": {
   "codemirror_mode": {
    "name": "ipython",
    "version": 3
   },
   "file_extension": ".py",
   "mimetype": "text/x-python",
   "name": "python",
   "nbconvert_exporter": "python",
   "pygments_lexer": "ipython3",
   "version": "3.8.16"
  },
  "orig_nbformat": 4
 },
 "nbformat": 4,
 "nbformat_minor": 2
}
