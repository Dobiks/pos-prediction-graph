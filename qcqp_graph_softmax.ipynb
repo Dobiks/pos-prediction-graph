{
 "cells": [
  {
   "cell_type": "code",
   "execution_count": 124,
   "metadata": {},
   "outputs": [],
   "source": [
    "import networkx as nx\n",
    "from graph_utils import plot_graph\n",
    "import numpy as np\n",
    "import pandas as pd\n",
    "from gurobipy import GRB, Model"
   ]
  },
  {
   "cell_type": "code",
   "execution_count": 125,
   "metadata": {},
   "outputs": [],
   "source": [
    "static = pd.read_csv(\"csv_files/static_with_t.csv\")\n",
    "detected = pd.read_csv(\"csv_files/detection_graph_softmax.csv\")"
   ]
  },
  {
   "cell_type": "code",
   "execution_count": 126,
   "metadata": {},
   "outputs": [],
   "source": [
    "componenets = detected.columns\n",
    "componenets = [x for x in componenets if x not in [\"name\", \"number\", \"x\", \"y\", \"z\"]]"
   ]
  },
  {
   "cell_type": "code",
   "execution_count": 127,
   "metadata": {},
   "outputs": [],
   "source": [
    "level_order = [\n",
    "    \"root_cross_right\",\n",
    "    \"root_cross_left\",\n",
    "    \"root_cross_right2\",\n",
    "    \"conn_k\",\n",
    "    \"cross_e\",\n",
    "    \"cross_bag_br\",\n",
    "    \"cross_ij1\",\n",
    "    \"cross_e_c\",\n",
    "    \"cross_f\",\n",
    "    \"bag_b_r\",\n",
    "    \"bag_a_r\",\n",
    "    \"conn_b\",\n",
    "    \"cross_ij2\",\n",
    "    \"conn_e\",\n",
    "    \"conn_c\",\n",
    "    \"cross_k\",\n",
    "    \"cross_f30\",\n",
    "    \"conn_i\",\n",
    "    \"conn_j\",\n",
    "    \"box\",\n",
    "    \"conn_a\",\n",
    "    \"conn_f_30\",\n",
    "    \"cross_f37\",\n",
    "    \"conn_f_60\",\n",
    "    \"bag_b_l\",\n",
    "    \"cross_gh\",\n",
    "    \"conn_f_37\",\n",
    "    \"conn_d\",\n",
    "    \"conn_g\",\n",
    "    \"conn_h\",\n",
    "    \"bag_a_l\",\n",
    "]"
   ]
  },
  {
   "cell_type": "code",
   "execution_count": 128,
   "metadata": {},
   "outputs": [],
   "source": [
    "quadratic_model = Model(\"quadratic\")"
   ]
  },
  {
   "cell_type": "code",
   "execution_count": 129,
   "metadata": {},
   "outputs": [],
   "source": [
    "variables = {}\n",
    "for name in level_order:\n",
    "    variables[f\"{name}_x\"] = quadratic_model.addVar(\n",
    "        vtype=GRB.CONTINUOUS, lb=-250, ub=250, name=f\"{name}_x\"\n",
    "    )\n",
    "    variables[f\"{name}_y\"] = quadratic_model.addVar(\n",
    "        vtype=GRB.CONTINUOUS, lb=-250, ub=250, name=f\"{name}_y\"\n",
    "    )\n",
    "    variables[f\"{name}_z\"] = quadratic_model.addVar(\n",
    "        vtype=GRB.CONTINUOUS, lb=-250, ub=250, name=f\"{name}_z\"\n",
    "    )"
   ]
  },
  {
   "cell_type": "code",
   "execution_count": 130,
   "metadata": {},
   "outputs": [],
   "source": [
    "obj_fn = 0\n",
    "for row in detected.iterrows():\n",
    "    detected_x = row[1][\"x\"]\n",
    "    detected_y = row[1][\"y\"]\n",
    "    detected_z = row[1][\"z\"]\n",
    "    for component in componenets:\n",
    "        confidence = row[1][component]\n",
    "        term = confidence * (\n",
    "            (variables[f\"{component}_x\"] - detected_x) ** 2\n",
    "            + (variables[f\"{component}_y\"] - detected_y) ** 2\n",
    "            + (variables[f\"{component}_z\"] - detected_z) ** 2\n",
    "        )\n",
    "        obj_fn += term\n",
    "    "
   ]
  },
  {
   "cell_type": "code",
   "execution_count": 131,
   "metadata": {},
   "outputs": [],
   "source": [
    "for name in level_order:\n",
    "    node_info = static[static[\"name\"] == name]\n",
    "    parent = node_info[\"parent\"].values[0]\n",
    "    distance_to_parent = node_info[\"distance_to_parent\"].values[0]\n",
    "    if name == \"root_cross_left\":\n",
    "        quadratic_model.addQConstr(variables[f\"{name}_x\"] == -13)\n",
    "        quadratic_model.addQConstr(variables[f\"{name}_y\"] == -20)\n",
    "        quadratic_model.addQConstr(variables[f\"{name}_z\"] == 0)\n",
    "\n",
    "    elif name == \"root_cross_right\":\n",
    "        quadratic_model.addQConstr(variables[f\"{name}_x\"] == 10)\n",
    "        quadratic_model.addQConstr(variables[f\"{name}_y\"] == -1)\n",
    "        quadratic_model.addQConstr(variables[f\"{name}_z\"] == 0)\n",
    "    else:\n",
    "        quadratic_model.addQConstr(\n",
    "            (\n",
    "                (variables[f\"{name}_x\"] - variables[f\"{parent}_x\"]) ** 2\n",
    "                + (variables[f\"{name}_y\"] - variables[f\"{parent}_y\"]) ** 2\n",
    "                + (variables[f\"{name}_z\"] - variables[f\"{parent}_z\"]) ** 2\n",
    "            )\n",
    "            <= distance_to_parent**2\n",
    "        )"
   ]
  },
  {
   "cell_type": "code",
   "execution_count": 132,
   "metadata": {},
   "outputs": [],
   "source": [
    "quadratic_model.setObjective(obj_fn, GRB.MINIMIZE)"
   ]
  },
  {
   "cell_type": "code",
   "execution_count": 133,
   "metadata": {},
   "outputs": [
    {
     "name": "stdout",
     "output_type": "stream",
     "text": [
      "Gurobi Optimizer version 10.0.1 build v10.0.1rc0 (linux64)\n",
      "\n",
      "CPU model: 11th Gen Intel(R) Core(TM) i5-11500H @ 2.90GHz, instruction set [SSE2|AVX|AVX2|AVX512]\n",
      "Thread count: 6 physical cores, 12 logical processors, using up to 12 threads\n",
      "\n",
      "Optimize a model with 6 rows, 93 columns and 6 nonzeros\n",
      "Model fingerprint: 0x013ad625\n",
      "Model has 54 quadratic objective terms\n",
      "Model has 29 quadratic constraints\n",
      "Coefficient statistics:\n",
      "  Matrix range     [1e+00, 1e+00]\n",
      "  QMatrix range    [1e+00, 2e+00]\n",
      "  Objective range  [1e+00, 4e+02]\n",
      "  QObjective range [1e+00, 2e+00]\n",
      "  Bounds range     [2e+02, 2e+02]\n",
      "  RHS range        [1e+00, 2e+01]\n",
      "  QRHS range       [2e+01, 1e+04]\n",
      "Presolve removed 6 rows and 6 columns\n",
      "Presolve time: 0.02s\n",
      "Presolved: 234 rows, 202 columns, 403 nonzeros\n",
      "Presolved model has 30 second-order cone constraints\n",
      "Ordering time: 0.00s\n",
      "\n",
      "Barrier statistics:\n",
      " AA' NZ     : 1.419e+04\n",
      " Factor NZ  : 1.502e+04\n",
      " Factor Ops : 1.585e+06 (less than 1 second per iteration)\n",
      " Threads    : 1\n",
      "\n",
      "                  Objective                Residual\n",
      "Iter       Primal          Dual         Primal    Dual     Compl     Time\n",
      "   0   2.38912729e+05 -9.83716131e+05  4.82e+02 7.92e+02  2.63e+05     0s\n",
      "   1   1.55688469e+05 -8.87796692e+06  6.95e+01 1.34e+02  5.48e+04     0s\n",
      "   2   4.96325464e+04 -3.52521140e+06  3.68e+01 2.41e+01  1.76e+04     0s\n",
      "   3  -2.30182878e+04 -2.41636340e+06  1.61e+01 1.42e+01  1.00e+04     0s\n",
      "   4   4.31367234e+04 -9.58197193e+05  1.73e+00 3.55e+00  3.34e+03     0s\n",
      "   5   1.75522396e+05 -2.71118369e+05  1.50e-01 1.11e+00  1.36e+03     0s\n",
      "   6   5.09799857e+04 -6.91312682e+04  8.46e-02 3.34e-01  4.57e+02     0s\n",
      "   7   1.94333282e+04 -8.05517240e+03  9.29e-08 3.54e-02  9.20e+01     0s\n",
      "   8   1.57971912e+04  1.21088655e+04  3.49e-10 8.30e-04  1.03e+01     0s\n",
      "   9   1.47424442e+04  1.40249825e+04  1.72e-09 8.95e-05  1.96e+00     0s\n",
      "  10   1.45414447e+04  1.44604508e+04  1.71e-09 1.34e-04  2.18e-01     0s\n",
      "  11   1.45228919e+04  1.45008755e+04  1.55e-07 9.00e-05  5.92e-02     0s\n",
      "  12   1.45204433e+04  1.45076209e+04  4.15e-08 5.62e-05  3.45e-02     0s\n",
      "  13   1.45174009e+04  1.45118241e+04  3.57e-07 7.52e-03  1.50e-02     0s\n",
      "  14   1.45150213e+04  1.45141110e+04  3.49e-07 4.62e-03  2.44e-03     0s\n",
      "  15   1.45149679e+04  1.45148841e+04  4.19e-12 1.65e-04  2.24e-04     0s\n",
      "  16   1.45149511e+04  1.45149454e+04  3.35e-12 5.90e-06  1.53e-05     0s\n",
      "  17   1.45149499e+04  1.45149456e+04  2.91e-09 4.26e-04  1.17e-05     0s\n",
      "\n",
      "Barrier solved model in 17 iterations and 0.09 seconds (0.01 work units)\n",
      "Optimal objective 1.45149499e+04\n",
      "\n"
     ]
    }
   ],
   "source": [
    "quadratic_model.optimize()"
   ]
  },
  {
   "cell_type": "code",
   "execution_count": 134,
   "metadata": {},
   "outputs": [],
   "source": [
    "# print all variable values\n",
    "# for v in quadratic_model.getVars():\n",
    "#     print(v.varName, v.x)"
   ]
  },
  {
   "cell_type": "code",
   "execution_count": 135,
   "metadata": {},
   "outputs": [
    {
     "name": "stdout",
     "output_type": "stream",
     "text": [
      "Graph saved to qcqp2.html\n"
     ]
    }
   ],
   "source": [
    "import networkx as nx\n",
    "from graph_utils import plot_graph\n",
    "import numpy as np\n",
    "import pandas as pd\n",
    "from transformation_utils import (\n",
    "    get_rotation,\n",
    "    rotate_graph,\n",
    "    get_rotation_nn,\n",
    "    optim_rotation,\n",
    ")\n",
    "\n",
    "G1 = nx.Graph()\n",
    "for i in range(len(static)):\n",
    "    G1.add_node(static[\"name\"][i], pos=(static[\"x\"][i], static[\"z\"][i], static[\"y\"][i]))\n",
    "for i in range(len(static)):\n",
    "    if static[\"parent\"][i] != 0 and static[\"parent\"][i] != \"0\":\n",
    "        G1.add_edge(static[\"name\"][i], static[\"parent\"][i])\n",
    "\n",
    "\n",
    "G2 = nx.Graph()\n",
    "for name in level_order:\n",
    "    # if x and y and z are  different than 250 or -250\n",
    "    if variables[f\"{name}_x\"].x != 250 and variables[f\"{name}_x\"].x != -250:\n",
    "        # print(name, variables[f\"{name}_x\"].x, variables[f\"{name}_y\"].x, variables[f\"{name}_z\"].x)\n",
    "        G2.add_node(\n",
    "            name,\n",
    "            pos=(\n",
    "                variables[f\"{name}_x\"].x,\n",
    "                variables[f\"{name}_z\"].x,\n",
    "                variables[f\"{name}_y\"].x,\n",
    "            ),\n",
    "        )\n",
    "\n",
    "\n",
    "plot_graph(static_graph=G1, detected_graph=G2, name=\"qcqp2\", save=True)"
   ]
  },
  {
   "cell_type": "code",
   "execution_count": 136,
   "metadata": {},
   "outputs": [
    {
     "name": "stdout",
     "output_type": "stream",
     "text": [
      "10.0\n"
     ]
    }
   ],
   "source": [
    "# print cross_bag_br_x\n",
    "print(variables[\"root_cross_right_x\"].x)"
   ]
  },
  {
   "cell_type": "code",
   "execution_count": null,
   "metadata": {},
   "outputs": [],
   "source": []
  }
 ],
 "metadata": {
  "kernelspec": {
   "display_name": ".venv",
   "language": "python",
   "name": "python3"
  },
  "language_info": {
   "codemirror_mode": {
    "name": "ipython",
    "version": 3
   },
   "file_extension": ".py",
   "mimetype": "text/x-python",
   "name": "python",
   "nbconvert_exporter": "python",
   "pygments_lexer": "ipython3",
   "version": "3.10.6"
  },
  "orig_nbformat": 4
 },
 "nbformat": 4,
 "nbformat_minor": 2
}
