{
 "cells": [
  {
   "cell_type": "code",
   "execution_count": 107,
   "metadata": {},
   "outputs": [],
   "source": [
    "import networkx as nx\n",
    "from utils.graph_utils import plot_graph\n",
    "import numpy as np\n",
    "import pandas as pd\n",
    "from gurobipy import GRB, Model"
   ]
  },
  {
   "cell_type": "code",
   "execution_count": 108,
   "metadata": {},
   "outputs": [],
   "source": [
    "static = pd.read_csv(\"/home/mikolaj/git/pos-prediction-graph/data_generation/mega_static.csv\")\n",
    "detected = pd.read_csv(\"/home/mikolaj/git/pos-prediction-graph/data_generation/mega_randomized.csv\")"
   ]
  },
  {
   "cell_type": "code",
   "execution_count": 109,
   "metadata": {},
   "outputs": [],
   "source": [
    "componenets = detected.columns\n",
    "componenets = [\n",
    "    x\n",
    "    for x in componenets\n",
    "    if x\n",
    "    not in [\n",
    "        \"name\",\n",
    "        \"number\",\n",
    "        \"x\",\n",
    "        \"y\",\n",
    "        \"z\",\n",
    "        \"id\",\n",
    "        \"parent\",\n",
    "        \"distance_to_parent\",\n",
    "    ]\n",
    "]"
   ]
  },
  {
   "cell_type": "code",
   "execution_count": 110,
   "metadata": {},
   "outputs": [],
   "source": [
    "level_order = [\n",
    "    \"root_cross_right\",\n",
    "    \"root_cross_left\",\n",
    "    \"root_cross_right2\",\n",
    "    \"conn_k\",\n",
    "    \"cross_e\",\n",
    "    \"cross_bag_br\",\n",
    "    \"cross_ij1\",\n",
    "    \"cross_e_c\",\n",
    "    \"cross_f\",\n",
    "    \"bag_b_r\",\n",
    "    \"bag_a_r\",\n",
    "    \"conn_b\",\n",
    "    \"cross_ij2\",\n",
    "    \"conn_e\",\n",
    "    \"conn_c\",\n",
    "    \"cross_k\",\n",
    "    \"cross_f30\",\n",
    "    \"conn_i\",\n",
    "    \"conn_j\",\n",
    "    \"box\",\n",
    "    \"conn_a\",\n",
    "    \"conn_f_30\",\n",
    "    \"cross_f37\",\n",
    "    \"conn_f_60\",\n",
    "    \"bag_b_l\",\n",
    "    \"cross_gh\",\n",
    "    \"conn_f_37\",\n",
    "    \"conn_d\",\n",
    "    \"conn_g\",\n",
    "    \"conn_h\",\n",
    "    \"bag_a_l\",\n",
    "]"
   ]
  },
  {
   "cell_type": "code",
   "execution_count": 111,
   "metadata": {},
   "outputs": [],
   "source": [
    "quadratic_model = Model(\"quadratic\")"
   ]
  },
  {
   "cell_type": "code",
   "execution_count": 112,
   "metadata": {},
   "outputs": [],
   "source": [
    "variables = {}\n",
    "for name in level_order:\n",
    "    variables[f\"{name}_x\"] = quadratic_model.addVar(\n",
    "        vtype=GRB.CONTINUOUS, lb=-250, ub=250, name=f\"{name}_x\"\n",
    "    )\n",
    "    variables[f\"{name}_y\"] = quadratic_model.addVar(\n",
    "        vtype=GRB.CONTINUOUS, lb=-250, ub=250, name=f\"{name}_y\"\n",
    "    )\n",
    "    variables[f\"{name}_z\"] = quadratic_model.addVar(\n",
    "        vtype=GRB.CONTINUOUS, lb=-250, ub=250, name=f\"{name}_z\"\n",
    "    )"
   ]
  },
  {
   "cell_type": "code",
   "execution_count": 113,
   "metadata": {},
   "outputs": [
    {
     "data": {
      "text/plain": [
       "['conn_a',\n",
       " 'conn_f_30',\n",
       " 'conn_f_37',\n",
       " 'conn_f_60',\n",
       " 'conn_e',\n",
       " 'conn_c',\n",
       " 'bag_b_l',\n",
       " 'box',\n",
       " 'cross_gh',\n",
       " 'conn_g',\n",
       " 'conn_h',\n",
       " 'conn_k',\n",
       " 'conn_d',\n",
       " 'bag_b_r',\n",
       " 'bag_a_r',\n",
       " 'conn_b',\n",
       " 'conn_i',\n",
       " 'conn_j',\n",
       " 'bag_a_l']"
      ]
     },
     "execution_count": 113,
     "metadata": {},
     "output_type": "execute_result"
    }
   ],
   "source": [
    "componenets"
   ]
  },
  {
   "cell_type": "code",
   "execution_count": 114,
   "metadata": {},
   "outputs": [],
   "source": [
    "obj_fn = 0\n",
    "for row in detected.iterrows():\n",
    "    detected_x = row[1][\"x\"]\n",
    "    detected_y = row[1][\"y\"]\n",
    "    detected_z = row[1][\"z\"]\n",
    "    for component in componenets:\n",
    "        confidence = row[1][component]\n",
    "        term = confidence * (\n",
    "            (variables[f\"{component}_x\"] - detected_x) ** 2\n",
    "            + (variables[f\"{component}_y\"] - detected_y) ** 2\n",
    "            + (variables[f\"{component}_z\"] - detected_z) ** 2\n",
    "        )\n",
    "        obj_fn += term\n",
    "    "
   ]
  },
  {
   "cell_type": "code",
   "execution_count": 115,
   "metadata": {},
   "outputs": [],
   "source": [
    "for name in level_order:\n",
    "    node_info = static[static[\"name\"] == name]\n",
    "    parent = node_info[\"parent\"].values[0]\n",
    "    distance_to_parent = node_info[\"distance_to_parent\"].values[0]\n",
    "    if name == \"root_cross_left\":\n",
    "        quadratic_model.addQConstr(variables[f\"{name}_x\"] == -13)\n",
    "        quadratic_model.addQConstr(variables[f\"{name}_y\"] == -20)\n",
    "        quadratic_model.addQConstr(variables[f\"{name}_z\"] == 0)\n",
    "\n",
    "    elif name == \"root_cross_right\":\n",
    "        quadratic_model.addQConstr(variables[f\"{name}_x\"] == 10)\n",
    "        quadratic_model.addQConstr(variables[f\"{name}_y\"] == -1)\n",
    "        quadratic_model.addQConstr(variables[f\"{name}_z\"] == 0)\n",
    "    else:\n",
    "        quadratic_model.addQConstr(\n",
    "            (\n",
    "                (variables[f\"{name}_x\"] - variables[f\"{parent}_x\"]) ** 2\n",
    "                + (variables[f\"{name}_y\"] - variables[f\"{parent}_y\"]) ** 2\n",
    "                + (variables[f\"{name}_z\"] - variables[f\"{parent}_z\"]) ** 2\n",
    "            )\n",
    "            <= distance_to_parent**2\n",
    "        )"
   ]
  },
  {
   "cell_type": "code",
   "execution_count": 116,
   "metadata": {},
   "outputs": [],
   "source": [
    "quadratic_model.setObjective(obj_fn, GRB.MINIMIZE)"
   ]
  },
  {
   "cell_type": "code",
   "execution_count": 117,
   "metadata": {},
   "outputs": [
    {
     "name": "stdout",
     "output_type": "stream",
     "text": [
      "Gurobi Optimizer version 10.0.1 build v10.0.1rc0 (linux64)\n",
      "\n",
      "CPU model: 11th Gen Intel(R) Core(TM) i5-11500H @ 2.90GHz, instruction set [SSE2|AVX|AVX2|AVX512]\n",
      "Thread count: 6 physical cores, 12 logical processors, using up to 12 threads\n",
      "\n",
      "Optimize a model with 6 rows, 93 columns and 6 nonzeros\n",
      "Model fingerprint: 0xfc3aa24e\n",
      "Model has 57 quadratic objective terms\n",
      "Model has 29 quadratic constraints\n",
      "Coefficient statistics:\n",
      "  Matrix range     [1e+00, 1e+00]\n",
      "  QMatrix range    [1e+00, 2e+00]\n",
      "  Objective range  [5e+01, 3e+03]\n",
      "  QObjective range [2e+01, 2e+01]\n",
      "  Bounds range     [2e+02, 2e+02]\n",
      "  RHS range        [1e+00, 2e+01]\n",
      "  QRHS range       [2e+01, 1e+04]\n",
      "Presolve removed 6 rows and 6 columns\n",
      "Presolve time: 0.01s\n",
      "Presolved: 240 rows, 202 columns, 409 nonzeros\n",
      "Presolved model has 30 second-order cone constraints\n",
      "Ordering time: 0.00s\n",
      "\n",
      "Barrier statistics:\n",
      " AA' NZ     : 1.521e+04\n",
      " Factor NZ  : 1.604e+04\n",
      " Factor Ops : 1.760e+06 (less than 1 second per iteration)\n",
      " Threads    : 1\n",
      "\n",
      "                  Objective                Residual\n",
      "Iter       Primal          Dual         Primal    Dual     Compl     Time\n",
      "   0   1.62886308e+06 -5.55488412e+05  1.45e+03 1.59e+03  1.67e+06     0s\n",
      "   1   8.33957382e+05 -4.98748701e+07  1.82e+02 2.93e+02  3.26e+05     0s\n",
      "   2   4.45546877e+05 -3.34445552e+07  1.16e+02 1.69e+02  1.96e+05     0s\n",
      "   3   8.73964243e+05 -2.35086734e+07  5.46e+01 1.11e+02  1.22e+05     0s\n",
      "   4   3.25675716e+05 -1.63490475e+07  3.63e+01 7.33e+01  8.09e+04     0s\n",
      "   5   1.53615187e+06 -3.83391749e+06  3.38e+00 1.71e+01  2.09e+04     0s\n",
      "   6   8.98696627e+05 -1.83389764e+06  1.70e+00 1.03e+01  1.20e+04     0s\n",
      "   7   6.50886909e+05 -6.44206684e+05  1.02e+00 5.84e+00  7.31e+03     0s\n",
      "   8   9.45511007e+05  3.86685720e+05  1.12e-06 1.85e+00  2.64e+03     0s\n",
      "   9   5.55641656e+05  3.55722016e+05  6.33e-07 3.61e-01  9.59e+02     0s\n",
      "  10   3.49389620e+05  9.20353397e+04  8.16e-09 3.40e-04  6.82e+02     0s\n",
      "  11   1.65949184e+05  1.61231930e+05  6.95e-09 1.83e-04  1.25e+01     0s\n",
      "  12   1.65446062e+05  1.65396035e+05  2.33e-10 1.34e-03  1.33e-01     0s\n",
      "  13   1.65435300e+05  1.65435020e+05  7.19e-09 7.28e-03  7.40e-04     0s\n",
      "  14   1.65435210e+05  1.65435207e+05  2.95e-11 5.34e-01  6.06e-06     0s\n",
      "  15   1.65435209e+05  1.65435208e+05  4.02e-09 9.77e-02  4.03e-06     0s\n",
      "  16   1.65440605e+05  1.65435208e+05  2.37e-04 1.69e-01  4.02e-06     0s\n",
      "  17   1.65437280e+05  1.65435208e+05  9.09e-05 4.01e-03  4.02e-06     0s\n",
      "  18   1.65443732e+05  1.65435208e+05  3.74e-04 3.14e-04  4.02e-06     0s\n",
      "  19   1.65429643e+05  1.65435208e+05  2.44e-04 4.79e-04  4.02e-06     0s\n",
      "\n",
      "Barrier solved model in 19 iterations and 0.06 seconds (0.01 work units)\n",
      "Optimal objective 1.65429643e+05\n",
      "\n"
     ]
    }
   ],
   "source": [
    "quadratic_model.optimize()"
   ]
  },
  {
   "cell_type": "code",
   "execution_count": 118,
   "metadata": {},
   "outputs": [
    {
     "name": "stdout",
     "output_type": "stream",
     "text": [
      "Graph saved to qcqp2.html\n"
     ]
    }
   ],
   "source": [
    "import networkx as nx\n",
    "from utils.graph_utils import plot_graph\n",
    "import numpy as np\n",
    "import pandas as pd\n",
    "\n",
    "\n",
    "G1 = nx.Graph()\n",
    "for i in range(len(detected)):\n",
    "    G1.add_node(\n",
    "        str(detected[\"id\"][i]), pos=(detected[\"x\"][i], detected[\"z\"][i], detected[\"y\"][i])\n",
    "    )\n",
    "\n",
    "# G1.add_node(\"conn_a\", pos=(10, 10, 0))\n",
    "\n",
    "G2 = nx.Graph()\n",
    "for name in level_order:\n",
    "    # if x and y and z are  different than 250 or -250\n",
    "    if variables[f\"{name}_x\"].x != 250 and variables[f\"{name}_x\"].x != -250:\n",
    "        # print(name, variables[f\"{name}_x\"].x, variables[f\"{name}_y\"].x, variables[f\"{name}_z\"].x)\n",
    "        G2.add_node(\n",
    "            name,\n",
    "            pos=(\n",
    "                variables[f\"{name}_x\"].x,\n",
    "                variables[f\"{name}_z\"].x,\n",
    "                variables[f\"{name}_y\"].x,\n",
    "            ),\n",
    "        )\n",
    "\n",
    "\n",
    "plot_graph(static_graph=G1, detected_graph=G2, name=\"qcqp2\", save=True)"
   ]
  },
  {
   "cell_type": "code",
   "execution_count": 119,
   "metadata": {},
   "outputs": [],
   "source": [
    "def calculate_distance(point1, point2):\n",
    "    \"\"\"Calculates the Euclidean distance between two 3D points\"\"\"\n",
    "    x1, y1, z1 = point1\n",
    "    x2, y2, z2 = point2\n",
    "    return np.sqrt((x1 - x2)**2 + (y1 - y2)**2 + (z1 - z2)**2)\n",
    "\n",
    "def find_closest_node(G1, G2):\n",
    "    \"\"\"Finds the closest G1 node for each node in G2\"\"\"\n",
    "    closest_nodes = {}\n",
    "    for g2_node in G2.nodes(data=True):\n",
    "        g2_pos = g2_node[1]['pos']\n",
    "        min_dist = float('inf')\n",
    "        min_node = None\n",
    "        for g1_node in G1.nodes(data=True):\n",
    "            g1_pos = g1_node[1]['pos']\n",
    "            dist = calculate_distance(g1_pos, g2_pos)\n",
    "            if dist < min_dist:\n",
    "                min_dist = dist\n",
    "                min_node = g1_node[0]\n",
    "        closest_nodes[g2_node[0]] = min_node\n",
    "    return closest_nodes\n",
    "\n",
    "# Call the function\n",
    "closest_nodes = find_closest_node(G2, G1)\n",
    "\n",
    "# If you want to see the result in a DataFrame\n",
    "df_closest_nodes = pd.DataFrame(closest_nodes.items(), columns=['G1_Node', 'Closest_G2_Node'])\n",
    "df_closest_nodes = df_closest_nodes.set_index('G1_Node')\n",
    "\n"
   ]
  },
  {
   "cell_type": "code",
   "execution_count": 120,
   "metadata": {},
   "outputs": [],
   "source": [
    "#sort by column \"closest_G2_node\"\n",
    "df_closest_nodes.sort_values(by=['Closest_G2_Node'], inplace=True)"
   ]
  },
  {
   "cell_type": "code",
   "execution_count": 121,
   "metadata": {},
   "outputs": [],
   "source": [
    "detected['valid'] = detected['id'].astype(str).map(df_closest_nodes['Closest_G2_Node'])\n"
   ]
  },
  {
   "cell_type": "code",
   "execution_count": 122,
   "metadata": {},
   "outputs": [],
   "source": [
    "final_model = Model(\"quadratic\")"
   ]
  },
  {
   "cell_type": "code",
   "execution_count": 123,
   "metadata": {},
   "outputs": [],
   "source": [
    "f_vars = {}\n",
    "for name in level_order:\n",
    "    f_vars[f\"{name}_x\"] = final_model.addVar(\n",
    "        vtype=GRB.CONTINUOUS, lb=-250, ub=250, name=f\"{name}_x\"\n",
    "    )\n",
    "    f_vars[f\"{name}_y\"] = final_model.addVar(\n",
    "        vtype=GRB.CONTINUOUS, lb=-250, ub=250, name=f\"{name}_y\"\n",
    "    )\n",
    "    f_vars[f\"{name}_z\"] = final_model.addVar(\n",
    "        vtype=GRB.CONTINUOUS, lb=-250, ub=250, name=f\"{name}_z\"\n",
    "    )"
   ]
  },
  {
   "cell_type": "code",
   "execution_count": 124,
   "metadata": {},
   "outputs": [],
   "source": [
    "obj_fn = 0\n",
    "for row in detected.iterrows():\n",
    "    detected_x = row[1][\"x\"]\n",
    "    detected_y = row[1][\"y\"]\n",
    "    detected_z = row[1][\"z\"]\n",
    "    component = row[1][\"valid\"]\n",
    "    term = (\n",
    "        (f_vars[f\"{component}_x\"] - detected_x) ** 2\n",
    "        + (f_vars[f\"{component}_y\"] - detected_y) ** 2\n",
    "        + (f_vars[f\"{component}_z\"] - detected_z) ** 2\n",
    "    )\n",
    "    obj_fn += term\n",
    "    "
   ]
  },
  {
   "cell_type": "code",
   "execution_count": 125,
   "metadata": {},
   "outputs": [],
   "source": [
    "for name in level_order:\n",
    "    node_info = static[static[\"name\"] == name]\n",
    "    parent = node_info[\"parent\"].values[0]\n",
    "    distance_to_parent = node_info[\"distance_to_parent\"].values[0]\n",
    "    if name == \"root_cross_left\":\n",
    "        final_model.addQConstr(f_vars[f\"{name}_x\"] == -13)\n",
    "        final_model.addQConstr(f_vars[f\"{name}_y\"] == -20)\n",
    "        final_model.addQConstr(f_vars[f\"{name}_z\"] == 0)\n",
    "\n",
    "    elif name == \"root_cross_right\":\n",
    "        final_model.addQConstr(f_vars[f\"{name}_x\"] == 10)\n",
    "        final_model.addQConstr(f_vars[f\"{name}_y\"] == -1)\n",
    "        final_model.addQConstr(f_vars[f\"{name}_z\"] == 0)\n",
    "    else:\n",
    "        final_model.addQConstr(\n",
    "            (\n",
    "                (f_vars[f\"{name}_x\"] - f_vars[f\"{parent}_x\"]) ** 2\n",
    "                + (f_vars[f\"{name}_y\"] - f_vars[f\"{parent}_y\"]) ** 2\n",
    "                + (f_vars[f\"{name}_z\"] - f_vars[f\"{parent}_z\"]) ** 2\n",
    "            )\n",
    "            <= distance_to_parent**2\n",
    "        )"
   ]
  },
  {
   "cell_type": "code",
   "execution_count": 126,
   "metadata": {},
   "outputs": [
    {
     "name": "stdout",
     "output_type": "stream",
     "text": [
      "Gurobi Optimizer version 10.0.1 build v10.0.1rc0 (linux64)\n",
      "\n",
      "CPU model: 11th Gen Intel(R) Core(TM) i5-11500H @ 2.90GHz, instruction set [SSE2|AVX|AVX2|AVX512]\n",
      "Thread count: 6 physical cores, 12 logical processors, using up to 12 threads\n",
      "\n",
      "Optimize a model with 6 rows, 93 columns and 6 nonzeros\n",
      "Model fingerprint: 0xabd54d70\n",
      "Model has 51 quadratic objective terms\n",
      "Model has 29 quadratic constraints\n",
      "Coefficient statistics:\n",
      "  Matrix range     [1e+00, 1e+00]\n",
      "  QMatrix range    [1e+00, 2e+00]\n",
      "  Objective range  [1e+01, 3e+03]\n",
      "  QObjective range [4e+00, 4e+01]\n",
      "  Bounds range     [2e+02, 2e+02]\n",
      "  RHS range        [1e+00, 2e+01]\n",
      "  QRHS range       [2e+01, 1e+04]\n",
      "Presolve removed 6 rows and 6 columns\n",
      "Presolve time: 0.01s\n",
      "Presolved: 228 rows, 202 columns, 397 nonzeros\n",
      "Presolved model has 30 second-order cone constraints\n",
      "Ordering time: 0.00s\n",
      "\n",
      "Barrier statistics:\n",
      " AA' NZ     : 1.321e+04\n",
      " Factor NZ  : 1.399e+04\n",
      " Factor Ops : 1.422e+06 (less than 1 second per iteration)\n",
      " Threads    : 1\n",
      "\n",
      "                  Objective                Residual\n",
      "Iter       Primal          Dual         Primal    Dual     Compl     Time\n",
      "   0   1.64724822e+06 -1.64685579e+06  1.38e+03 1.92e+03  1.89e+06     0s\n",
      "   1   8.52719846e+05 -5.17985122e+07  1.76e+02 3.57e+02  3.63e+05     0s\n",
      "   2   4.74818226e+05 -3.34390851e+07  1.10e+02 1.91e+02  2.08e+05     0s\n",
      "   3   6.63728933e+05 -2.35587545e+07  5.33e+01 1.23e+02  1.27e+05     0s\n",
      "   4   4.88685595e+05 -1.30747336e+07  2.77e+01 6.14e+01  6.59e+04     0s\n",
      "   5   9.84146011e+05 -2.69731745e+06  2.11e+00 1.23e+01  1.49e+04     0s\n",
      "   6   9.71634873e+05 -2.20145721e+05  6.59e-01 3.78e+00  5.46e+03     0s\n",
      "   7   8.53126532e+05  3.03143730e+05  1.85e-02 1.36e+00  2.67e+03     0s\n",
      "   8   2.59329437e+05  2.66094038e+05  1.40e-02 1.03e+00  2.05e+03     0s\n",
      "   9   9.48921930e+04  1.38522624e+05  6.42e-08 1.69e-01  3.76e+02     0s\n",
      "  10   1.62593761e+05  2.14817680e+04  3.08e-08 3.62e-02  4.71e+02     0s\n",
      "  11   5.63558299e+04 -1.94086366e+04  4.68e-08 2.27e-03  2.12e+02     0s\n",
      "  12   1.78014177e+03 -1.29802474e+03  4.66e-10 1.19e-04  8.70e+00     0s\n",
      "  13   1.02497038e+03  9.90723189e+02  3.21e-11 7.17e-04  9.87e-02     0s\n",
      "  14   1.02210222e+03  1.02185068e+03  2.33e-10 4.23e-06  7.15e-04     0s\n",
      "  15   1.02208286e+03  1.02207915e+03  2.33e-10 1.39e-04  9.10e-06     0s\n",
      "  16   1.02309745e+03  1.02207915e+03  4.66e-05 9.87e-04  6.17e-06     0s\n",
      "\n",
      "Barrier solved model in 16 iterations and 0.04 seconds (0.01 work units)\n",
      "Optimal objective 1.02309745e+03\n",
      "\n"
     ]
    }
   ],
   "source": [
    "final_model.setObjective(obj_fn, GRB.MINIMIZE)\n",
    "final_model.optimize()\n"
   ]
  },
  {
   "cell_type": "code",
   "execution_count": 127,
   "metadata": {},
   "outputs": [
    {
     "name": "stdout",
     "output_type": "stream",
     "text": [
      "Graph saved to qcqp3.html\n"
     ]
    }
   ],
   "source": [
    "import networkx as nx\n",
    "from utils.graph_utils import plot_graph\n",
    "import numpy as np\n",
    "import pandas as pd\n",
    "\n",
    "\n",
    "G1 = nx.Graph()\n",
    "for i in range(len(static)):\n",
    "    G1.add_node(static[\"name\"][i], pos=(static[\"x\"][i], static[\"z\"][i], static[\"y\"][i]))\n",
    "for i in range(len(static)):\n",
    "    if static[\"parent\"][i] != 0 and static[\"parent\"][i] != \"0\":\n",
    "        G1.add_edge(static[\"name\"][i], static[\"parent\"][i])\n",
    "\n",
    "\n",
    "G2 = nx.Graph()\n",
    "for name in level_order:\n",
    "    # if x and y and z are  different than 250 or -250\n",
    "    if f_vars[f\"{name}_x\"].x != 250 and f_vars[f\"{name}_x\"].x != -250:\n",
    "        # print(name, variables[f\"{name}_x\"].x, variables[f\"{name}_y\"].x, variables[f\"{name}_z\"].x)\n",
    "        G2.add_node(\n",
    "            name,\n",
    "            pos=(\n",
    "                f_vars[f\"{name}_x\"].x,\n",
    "                f_vars[f\"{name}_z\"].x,\n",
    "                f_vars[f\"{name}_y\"].x,\n",
    "            ),\n",
    "        )\n",
    "\n",
    "\n",
    "plot_graph(static_graph=G1, detected_graph=G2, name=\"qcqp3\", save=True)"
   ]
  },
  {
   "cell_type": "code",
   "execution_count": null,
   "metadata": {},
   "outputs": [],
   "source": []
  }
 ],
 "metadata": {
  "kernelspec": {
   "display_name": ".venv",
   "language": "python",
   "name": "python3"
  },
  "language_info": {
   "codemirror_mode": {
    "name": "ipython",
    "version": 3
   },
   "file_extension": ".py",
   "mimetype": "text/x-python",
   "name": "python",
   "nbconvert_exporter": "python",
   "pygments_lexer": "ipython3",
   "version": "3.10.6"
  },
  "orig_nbformat": 4
 },
 "nbformat": 4,
 "nbformat_minor": 2
}
