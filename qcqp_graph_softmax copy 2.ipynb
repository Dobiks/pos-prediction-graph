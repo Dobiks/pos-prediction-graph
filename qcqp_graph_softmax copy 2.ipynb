{
 "cells": [
  {
   "cell_type": "code",
   "execution_count": 1,
   "metadata": {},
   "outputs": [],
   "source": [
    "import networkx as nx\n",
    "from utils.graph_utils import plot_graph\n",
    "import numpy as np\n",
    "import pandas as pd\n",
    "from gurobipy import GRB, Model"
   ]
  },
  {
   "cell_type": "code",
   "execution_count": 2,
   "metadata": {},
   "outputs": [],
   "source": [
    "static = pd.read_csv(\"/home/mikolaj/git/pos-prediction-graph/data_generation/mega_static.csv\")\n",
    "detected = pd.read_csv(\"/home/mikolaj/git/pos-prediction-graph/data_generation/mega_randomized.csv\")"
   ]
  },
  {
   "cell_type": "code",
   "execution_count": 3,
   "metadata": {},
   "outputs": [],
   "source": [
    "componenets = detected.columns\n",
    "componenets = [\n",
    "    x\n",
    "    for x in componenets\n",
    "    if x\n",
    "    not in [\n",
    "        \"name\",\n",
    "        \"number\",\n",
    "        \"x\",\n",
    "        \"y\",\n",
    "        \"z\",\n",
    "        \"id\",\n",
    "        \"parent\",\n",
    "        \"distance_to_parent\",\n",
    "    ]\n",
    "]"
   ]
  },
  {
   "cell_type": "code",
   "execution_count": 4,
   "metadata": {},
   "outputs": [
    {
     "data": {
      "text/plain": [
       "['conn_a',\n",
       " 'conn_f_30',\n",
       " 'conn_f_37',\n",
       " 'conn_f_60',\n",
       " 'conn_e',\n",
       " 'conn_c',\n",
       " 'bag_b_l',\n",
       " 'box',\n",
       " 'cross_gh',\n",
       " 'conn_g',\n",
       " 'conn_h',\n",
       " 'conn_k',\n",
       " 'conn_d',\n",
       " 'bag_b_r',\n",
       " 'bag_a_r',\n",
       " 'conn_b',\n",
       " 'conn_i',\n",
       " 'conn_j',\n",
       " 'bag_a_l']"
      ]
     },
     "execution_count": 4,
     "metadata": {},
     "output_type": "execute_result"
    }
   ],
   "source": [
    "componenets"
   ]
  },
  {
   "cell_type": "code",
   "execution_count": 5,
   "metadata": {},
   "outputs": [],
   "source": [
    "level_order = [\n",
    "    \"root_cross_right\",\n",
    "    \"root_cross_left\",\n",
    "    \"root_cross_right2\",\n",
    "    \"conn_k\",\n",
    "    \"cross_e\",\n",
    "    \"cross_bag_br\",\n",
    "    \"cross_ij1\",\n",
    "    \"cross_e_c\",\n",
    "    \"cross_f\",\n",
    "    \"bag_b_r\",\n",
    "    \"bag_a_r\",\n",
    "    \"conn_b\",\n",
    "    \"cross_ij2\",\n",
    "    \"conn_e\",\n",
    "    \"conn_c\",\n",
    "    \"cross_k\",\n",
    "    \"cross_f30\",\n",
    "    \"conn_i\",\n",
    "    \"conn_j\",\n",
    "    \"box\",\n",
    "    \"conn_a\",\n",
    "    \"conn_f_30\",\n",
    "    \"cross_f37\",\n",
    "    \"conn_f_60\",\n",
    "    \"bag_b_l\",\n",
    "    \"cross_gh\",\n",
    "    \"conn_f_37\",\n",
    "    \"conn_d\",\n",
    "    \"conn_g\",\n",
    "    \"conn_h\",\n",
    "    \"bag_a_l\",\n",
    "]"
   ]
  },
  {
   "cell_type": "code",
   "execution_count": 6,
   "metadata": {},
   "outputs": [
    {
     "name": "stdout",
     "output_type": "stream",
     "text": [
      "Restricted license - for non-production use only - expires 2024-10-28\n"
     ]
    }
   ],
   "source": [
    "quadratic_model = Model(\"quadratic\")"
   ]
  },
  {
   "cell_type": "code",
   "execution_count": 7,
   "metadata": {},
   "outputs": [],
   "source": [
    "variables = {}\n",
    "for name in level_order:\n",
    "    variables[f\"{name}_x\"] = quadratic_model.addVar(\n",
    "        vtype=GRB.CONTINUOUS, lb=-250, ub=250, name=f\"{name}_x\"\n",
    "    )\n",
    "    variables[f\"{name}_y\"] = quadratic_model.addVar(\n",
    "        vtype=GRB.CONTINUOUS, lb=-250, ub=250, name=f\"{name}_y\"\n",
    "    )\n",
    "    variables[f\"{name}_z\"] = quadratic_model.addVar(\n",
    "        vtype=GRB.CONTINUOUS, lb=-250, ub=250, name=f\"{name}_z\"\n",
    "    )"
   ]
  },
  {
   "cell_type": "code",
   "execution_count": 8,
   "metadata": {},
   "outputs": [
    {
     "data": {
      "text/plain": [
       "['conn_a',\n",
       " 'conn_f_30',\n",
       " 'conn_f_37',\n",
       " 'conn_f_60',\n",
       " 'conn_e',\n",
       " 'conn_c',\n",
       " 'bag_b_l',\n",
       " 'box',\n",
       " 'cross_gh',\n",
       " 'conn_g',\n",
       " 'conn_h',\n",
       " 'conn_k',\n",
       " 'conn_d',\n",
       " 'bag_b_r',\n",
       " 'bag_a_r',\n",
       " 'conn_b',\n",
       " 'conn_i',\n",
       " 'conn_j',\n",
       " 'bag_a_l']"
      ]
     },
     "execution_count": 8,
     "metadata": {},
     "output_type": "execute_result"
    }
   ],
   "source": [
    "componenets"
   ]
  },
  {
   "cell_type": "code",
   "execution_count": 9,
   "metadata": {},
   "outputs": [],
   "source": [
    "obj_fn = 0\n",
    "for row in detected.iterrows():\n",
    "    detected_x = row[1][\"x\"]\n",
    "    detected_y = row[1][\"y\"]\n",
    "    detected_z = row[1][\"z\"]\n",
    "    for component in componenets:\n",
    "        confidence = row[1][component]\n",
    "        term = confidence * (\n",
    "            (variables[f\"{component}_x\"] - detected_x) ** 2\n",
    "            + (variables[f\"{component}_y\"] - detected_y) ** 2\n",
    "            + (variables[f\"{component}_z\"] - detected_z) ** 2\n",
    "        )\n",
    "        obj_fn += term\n",
    "    "
   ]
  },
  {
   "cell_type": "code",
   "execution_count": 10,
   "metadata": {},
   "outputs": [],
   "source": [
    "for name in level_order:\n",
    "    node_info = static[static[\"name\"] == name]\n",
    "    parent = node_info[\"parent\"].values[0]\n",
    "    distance_to_parent = node_info[\"distance_to_parent\"].values[0]\n",
    "    if name == \"root_cross_left\":\n",
    "        quadratic_model.addQConstr(variables[f\"{name}_x\"] == -13)\n",
    "        quadratic_model.addQConstr(variables[f\"{name}_y\"] == -20)\n",
    "        quadratic_model.addQConstr(variables[f\"{name}_z\"] == 0)\n",
    "\n",
    "    elif name == \"root_cross_right\":\n",
    "        quadratic_model.addQConstr(variables[f\"{name}_x\"] == 10)\n",
    "        quadratic_model.addQConstr(variables[f\"{name}_y\"] == -1)\n",
    "        quadratic_model.addQConstr(variables[f\"{name}_z\"] == 0)\n",
    "    else:\n",
    "        quadratic_model.addQConstr(\n",
    "            (\n",
    "                (variables[f\"{name}_x\"] - variables[f\"{parent}_x\"]) ** 2\n",
    "                + (variables[f\"{name}_y\"] - variables[f\"{parent}_y\"]) ** 2\n",
    "                + (variables[f\"{name}_z\"] - variables[f\"{parent}_z\"]) ** 2\n",
    "            )\n",
    "            <= distance_to_parent**2\n",
    "        )"
   ]
  },
  {
   "cell_type": "code",
   "execution_count": 11,
   "metadata": {},
   "outputs": [],
   "source": [
    "quadratic_model.setObjective(obj_fn, GRB.MINIMIZE)"
   ]
  },
  {
   "cell_type": "code",
   "execution_count": 12,
   "metadata": {},
   "outputs": [
    {
     "name": "stdout",
     "output_type": "stream",
     "text": [
      "Gurobi Optimizer version 10.0.1 build v10.0.1rc0 (linux64)\n",
      "\n",
      "CPU model: 11th Gen Intel(R) Core(TM) i5-11500H @ 2.90GHz, instruction set [SSE2|AVX|AVX2|AVX512]\n",
      "Thread count: 6 physical cores, 12 logical processors, using up to 12 threads\n",
      "\n",
      "Optimize a model with 6 rows, 93 columns and 6 nonzeros\n",
      "Model fingerprint: 0x7dd62a6d\n",
      "Model has 57 quadratic objective terms\n",
      "Model has 29 quadratic constraints\n",
      "Coefficient statistics:\n",
      "  Matrix range     [1e+00, 1e+00]\n",
      "  QMatrix range    [1e+00, 2e+00]\n",
      "  Objective range  [5e+00, 2e+03]\n",
      "  QObjective range [2e+01, 2e+01]\n",
      "  Bounds range     [2e+02, 2e+02]\n",
      "  RHS range        [1e+00, 2e+01]\n",
      "  QRHS range       [2e+01, 1e+04]\n",
      "Presolve removed 6 rows and 6 columns\n",
      "Presolve time: 0.01s\n",
      "Presolved: 240 rows, 202 columns, 409 nonzeros\n",
      "Presolved model has 30 second-order cone constraints\n",
      "Ordering time: 0.00s\n",
      "\n",
      "Barrier statistics:\n",
      " AA' NZ     : 1.521e+04\n",
      " Factor NZ  : 1.604e+04\n",
      " Factor Ops : 1.760e+06 (less than 1 second per iteration)\n",
      " Threads    : 1\n",
      "\n",
      "                  Objective                Residual\n",
      "Iter       Primal          Dual         Primal    Dual     Compl     Time\n",
      "   0   1.42258573e+06 -6.46418846e+05  1.37e+03 1.51e+03  1.52e+06     0s\n",
      "   1   7.29211126e+05 -4.49113307e+07  1.84e+02 2.90e+02  3.07e+05     0s\n",
      "   2   3.77385806e+05 -2.98087824e+07  1.15e+02 1.63e+02  1.81e+05     0s\n",
      "   3   8.89086762e+05 -2.08849136e+07  4.64e+01 1.06e+02  1.09e+05     0s\n",
      "   4   3.65406565e+05 -1.46415416e+07  2.92e+01 7.09e+01  7.25e+04     0s\n",
      "   5   1.22696723e+06 -2.40869544e+06  5.03e-01 1.22e+01  1.38e+04     0s\n",
      "   6   1.45361402e+06  4.89423109e+04  5.53e-07 3.02e+00  4.66e+03     0s\n",
      "   7   1.38033592e+06  3.86699994e+05  3.10e-11 1.03e+00  3.31e+03     0s\n",
      "   8   2.89754726e+05  3.40759901e+05  5.38e-09 6.84e-01  1.66e+03     0s\n",
      "   9   2.88049859e+05  2.00812528e+05  8.97e-09 6.10e-02  4.29e+02     0s\n",
      "  10   1.95708848e+05  1.88439060e+05  3.24e-09 8.32e-04  2.15e+01     0s\n",
      "  11   1.89948433e+05  1.89894551e+05  1.23e-09 3.29e-04  1.95e-01     0s\n",
      "  12   1.89933690e+05  1.89933499e+05  6.88e-12 3.85e-04  7.70e-04     0s\n",
      "  13   1.89933638e+05  1.89933638e+05  4.66e-10 2.23e-03  9.12e-07     0s\n",
      "  14   1.89933586e+05  1.89933638e+05  2.16e-06 2.13e-04  7.42e-07     0s\n",
      "\n",
      "Barrier solved model in 14 iterations and 0.07 seconds (0.01 work units)\n",
      "Optimal objective 1.89933586e+05\n",
      "\n"
     ]
    }
   ],
   "source": [
    "quadratic_model.optimize()"
   ]
  },
  {
   "cell_type": "code",
   "execution_count": 13,
   "metadata": {},
   "outputs": [
    {
     "name": "stdout",
     "output_type": "stream",
     "text": [
      "Graph saved to qcqp2.html\n"
     ]
    }
   ],
   "source": [
    "import networkx as nx\n",
    "from utils.graph_utils import plot_graph\n",
    "import numpy as np\n",
    "import pandas as pd\n",
    "\n",
    "\n",
    "G1 = nx.Graph()\n",
    "for i in range(len(detected)):\n",
    "    G1.add_node(\n",
    "        str(detected[\"id\"][i]), pos=(detected[\"x\"][i], detected[\"z\"][i], detected[\"y\"][i])\n",
    "    )\n",
    "\n",
    "# G1.add_node(\"conn_a\", pos=(10, 10, 0))\n",
    "\n",
    "G2 = nx.Graph()\n",
    "for name in level_order:\n",
    "    # if x and y and z are  different than 250 or -250\n",
    "    if variables[f\"{name}_x\"].x != 250 and variables[f\"{name}_x\"].x != -250:\n",
    "        # print(name, variables[f\"{name}_x\"].x, variables[f\"{name}_y\"].x, variables[f\"{name}_z\"].x)\n",
    "        G2.add_node(\n",
    "            name,\n",
    "            pos=(\n",
    "                variables[f\"{name}_x\"].x,\n",
    "                variables[f\"{name}_z\"].x,\n",
    "                variables[f\"{name}_y\"].x,\n",
    "            ),\n",
    "        )\n",
    "\n",
    "\n",
    "plot_graph(static_graph=G1, detected_graph=G2, name=\"qcqp2\", save=True)"
   ]
  },
  {
   "cell_type": "code",
   "execution_count": 14,
   "metadata": {},
   "outputs": [],
   "source": [
    "def calculate_distance(point1, point2):\n",
    "    \"\"\"Calculates the Euclidean distance between two 3D points\"\"\"\n",
    "    x1, y1, z1 = point1\n",
    "    x2, y2, z2 = point2\n",
    "    return np.sqrt((x1 - x2)**2 + (y1 - y2)**2 + (z1 - z2)**2)\n",
    "\n",
    "def find_closest_node(G1, G2):\n",
    "    \"\"\"Finds the closest G1 node for each node in G2\"\"\"\n",
    "    closest_nodes = {}\n",
    "    for g2_node in G2.nodes(data=True):\n",
    "        g2_pos = g2_node[1]['pos']\n",
    "        min_dist = float('inf')\n",
    "        min_node = None\n",
    "        for g1_node in G1.nodes(data=True):\n",
    "            g1_pos = g1_node[1]['pos']\n",
    "            dist = calculate_distance(g1_pos, g2_pos)\n",
    "            if dist < min_dist:\n",
    "                min_dist = dist\n",
    "                min_node = g1_node[0]\n",
    "        closest_nodes[g2_node[0]] = min_node\n",
    "    return closest_nodes\n",
    "\n",
    "# Call the function\n",
    "closest_nodes = find_closest_node(G2, G1)\n",
    "\n",
    "# If you want to see the result in a DataFrame\n",
    "df_closest_nodes = pd.DataFrame(closest_nodes.items(), columns=['G1_Node', 'Closest_G2_Node'])\n",
    "df_closest_nodes = df_closest_nodes.set_index('G1_Node')\n",
    "\n"
   ]
  },
  {
   "cell_type": "code",
   "execution_count": 15,
   "metadata": {},
   "outputs": [],
   "source": [
    "#sort by column \"closest_G2_node\"\n",
    "df_closest_nodes.sort_values(by=['Closest_G2_Node'], inplace=True)"
   ]
  },
  {
   "cell_type": "code",
   "execution_count": 16,
   "metadata": {},
   "outputs": [],
   "source": [
    "detected['valid'] = detected['id'].astype(str).map(df_closest_nodes['Closest_G2_Node'])\n"
   ]
  },
  {
   "cell_type": "code",
   "execution_count": 17,
   "metadata": {},
   "outputs": [],
   "source": [
    "final_model = Model(\"quadratic\")"
   ]
  },
  {
   "cell_type": "code",
   "execution_count": 18,
   "metadata": {},
   "outputs": [],
   "source": [
    "f_vars = {}\n",
    "for name in level_order:\n",
    "    f_vars[f\"{name}_x\"] = final_model.addVar(\n",
    "        vtype=GRB.CONTINUOUS, lb=-250, ub=250, name=f\"{name}_x\"\n",
    "    )\n",
    "    f_vars[f\"{name}_y\"] = final_model.addVar(\n",
    "        vtype=GRB.CONTINUOUS, lb=-250, ub=250, name=f\"{name}_y\"\n",
    "    )\n",
    "    f_vars[f\"{name}_z\"] = final_model.addVar(\n",
    "        vtype=GRB.CONTINUOUS, lb=-250, ub=250, name=f\"{name}_z\"\n",
    "    )"
   ]
  },
  {
   "cell_type": "code",
   "execution_count": 19,
   "metadata": {},
   "outputs": [],
   "source": [
    "obj_fn = 0\n",
    "for row in detected.iterrows():\n",
    "    detected_x = row[1][\"x\"]\n",
    "    detected_y = row[1][\"y\"]\n",
    "    detected_z = row[1][\"z\"]\n",
    "    component = row[1][\"valid\"]\n",
    "    term = (\n",
    "        (f_vars[f\"{component}_x\"] - detected_x) ** 2\n",
    "        + (f_vars[f\"{component}_y\"] - detected_y) ** 2\n",
    "        + (f_vars[f\"{component}_z\"] - detected_z) ** 2\n",
    "    )\n",
    "    obj_fn += term\n",
    "    "
   ]
  },
  {
   "cell_type": "code",
   "execution_count": 20,
   "metadata": {},
   "outputs": [],
   "source": [
    "for name in level_order:\n",
    "    node_info = static[static[\"name\"] == name]\n",
    "    parent = node_info[\"parent\"].values[0]\n",
    "    distance_to_parent = node_info[\"distance_to_parent\"].values[0]\n",
    "    if name == \"root_cross_left\":\n",
    "        final_model.addQConstr(f_vars[f\"{name}_x\"] == -13)\n",
    "        final_model.addQConstr(f_vars[f\"{name}_y\"] == -20)\n",
    "        final_model.addQConstr(f_vars[f\"{name}_z\"] == 0)\n",
    "\n",
    "    elif name == \"root_cross_right\":\n",
    "        final_model.addQConstr(f_vars[f\"{name}_x\"] == 10)\n",
    "        final_model.addQConstr(f_vars[f\"{name}_y\"] == -1)\n",
    "        final_model.addQConstr(f_vars[f\"{name}_z\"] == 0)\n",
    "    else:\n",
    "        final_model.addQConstr(\n",
    "            (\n",
    "                (f_vars[f\"{name}_x\"] - f_vars[f\"{parent}_x\"]) ** 2\n",
    "                + (f_vars[f\"{name}_y\"] - f_vars[f\"{parent}_y\"]) ** 2\n",
    "                + (f_vars[f\"{name}_z\"] - f_vars[f\"{parent}_z\"]) ** 2\n",
    "            )\n",
    "            <= distance_to_parent**2\n",
    "        )"
   ]
  },
  {
   "cell_type": "code",
   "execution_count": 21,
   "metadata": {},
   "outputs": [
    {
     "name": "stdout",
     "output_type": "stream",
     "text": [
      "Gurobi Optimizer version 10.0.1 build v10.0.1rc0 (linux64)\n",
      "\n",
      "CPU model: 11th Gen Intel(R) Core(TM) i5-11500H @ 2.90GHz, instruction set [SSE2|AVX|AVX2|AVX512]\n",
      "Thread count: 6 physical cores, 12 logical processors, using up to 12 threads\n",
      "\n",
      "Optimize a model with 6 rows, 93 columns and 6 nonzeros\n",
      "Model fingerprint: 0x8b356088\n",
      "Model has 63 quadratic objective terms\n",
      "Model has 29 quadratic constraints\n",
      "Coefficient statistics:\n",
      "  Matrix range     [1e+00, 1e+00]\n",
      "  QMatrix range    [1e+00, 2e+00]\n",
      "  Objective range  [5e+00, 3e+03]\n",
      "  QObjective range [2e+00, 4e+01]\n",
      "  Bounds range     [2e+02, 2e+02]\n",
      "  RHS range        [1e+00, 2e+01]\n",
      "  QRHS range       [2e+01, 1e+04]\n",
      "Presolve removed 6 rows and 6 columns\n",
      "Presolve time: 0.01s\n",
      "Presolved: 252 rows, 202 columns, 421 nonzeros\n",
      "Presolved model has 30 second-order cone constraints\n",
      "Ordering time: 0.00s\n",
      "\n",
      "Barrier statistics:\n",
      " AA' NZ     : 1.902e+04\n",
      " Factor NZ  : 1.967e+04\n",
      " Factor Ops : 2.466e+06 (less than 1 second per iteration)\n",
      " Threads    : 1\n",
      "\n",
      "                  Objective                Residual\n",
      "Iter       Primal          Dual         Primal    Dual     Compl     Time\n",
      "   0   1.41521609e+06 -3.98231316e+05  1.41e+03 1.76e+03  1.76e+06     0s\n",
      "   1   6.94974226e+05 -5.56393352e+07  1.79e+02 3.22e+02  3.48e+05     0s\n",
      "   2   3.45683347e+05 -3.32140706e+07  1.11e+02 1.54e+02  1.85e+05     0s\n",
      "   3   4.04154063e+05 -2.37944588e+07  5.76e+01 1.03e+02  1.18e+05     0s\n",
      "   4   2.18585787e+05 -1.22639086e+07  2.76e+01 4.73e+01  5.69e+04     0s\n",
      "   5   5.03094893e+05 -4.72314079e+06  4.85e+00 1.64e+01  2.12e+04     0s\n",
      "   6   9.57852516e+05 -7.91354758e+05  3.26e-01 4.67e+00  6.53e+03     0s\n",
      "   7   6.97671093e+05  1.25581753e+05  3.58e-07 1.59e+00  2.66e+03     0s\n",
      "   8   9.65659829e+05  3.32035111e+04  1.56e-08 2.35e-01  2.75e+03     0s\n",
      "   9   2.97241136e+05 -2.24988974e+05  1.52e-10 9.13e-03  1.37e+03     0s\n",
      "  10   1.92315725e+05 -8.32885854e+04  1.84e-09 5.42e-03  7.28e+02     0s\n",
      "  11   8.44470949e+04 -3.86032042e+04  3.94e-10 3.64e-03  3.29e+02     0s\n",
      "  12   2.20521185e+04 -1.87386854e+04  5.41e-10 1.89e-03  1.12e+02     0s\n",
      "  13   3.17197642e+03 -9.08254244e+03  7.28e-09 7.59e-04  3.52e+01     0s\n",
      "  14   2.77697225e+03  1.64392051e+03  1.04e-12 6.91e-05  3.25e+00     0s\n",
      "  15   2.69272744e+03  2.50896459e+03  5.06e-12 1.73e-05  5.31e-01     0s\n",
      "  16   2.66474684e+03  2.59432308e+03  1.98e-08 4.24e-02  1.99e-01     0s\n",
      "  17   2.64619308e+03  2.63344007e+03  7.10e-09 1.14e-01  3.35e-02     0s\n",
      "  18   2.63593252e+03  2.63504434e+03  3.69e-10 4.89e-02  2.39e-03     0s\n",
      "  19   2.63589859e+03  2.63579119e+03  2.33e-10 4.70e-03  2.90e-04     0s\n",
      "  20   2.63588961e+03  2.63587279e+03  5.74e-11 7.62e-05  4.54e-05     0s\n",
      "  21   2.63585868e+03  2.63587279e+03  9.49e-07 1.15e-03  1.55e-05     0s\n",
      "  22   2.63586258e+03  2.63587279e+03  6.96e-07 2.40e-03  1.21e-05     0s\n",
      "  23   2.63889416e+03  2.63587279e+03  1.47e-04 2.09e-04  1.11e-05     0s\n",
      "\n",
      "Barrier solved model in 23 iterations and 0.08 seconds (0.02 work units)\n",
      "Optimal objective 2.63889416e+03\n",
      "\n"
     ]
    }
   ],
   "source": [
    "final_model.setObjective(obj_fn, GRB.MINIMIZE)\n",
    "final_model.optimize()\n"
   ]
  },
  {
   "cell_type": "code",
   "execution_count": 22,
   "metadata": {},
   "outputs": [
    {
     "name": "stdout",
     "output_type": "stream",
     "text": [
      "Graph saved to qcqp3.html\n"
     ]
    }
   ],
   "source": [
    "import networkx as nx\n",
    "from utils.graph_utils import plot_graph\n",
    "import numpy as np\n",
    "import pandas as pd\n",
    "\n",
    "\n",
    "G1 = nx.Graph()\n",
    "for i in range(len(static)):\n",
    "    G1.add_node(static[\"name\"][i], pos=(static[\"x\"][i], static[\"z\"][i], static[\"y\"][i]))\n",
    "for i in range(len(static)):\n",
    "    if static[\"parent\"][i] != 0 and static[\"parent\"][i] != \"0\":\n",
    "        G1.add_edge(static[\"name\"][i], static[\"parent\"][i])\n",
    "\n",
    "\n",
    "G2 = nx.Graph()\n",
    "for name in level_order:\n",
    "    # if x and y and z are  different than 250 or -250\n",
    "    if f_vars[f\"{name}_x\"].x != 250 and f_vars[f\"{name}_x\"].x != -250:\n",
    "        # print(name, variables[f\"{name}_x\"].x, variables[f\"{name}_y\"].x, variables[f\"{name}_z\"].x)\n",
    "        G2.add_node(\n",
    "            name,\n",
    "            pos=(\n",
    "                f_vars[f\"{name}_x\"].x,\n",
    "                f_vars[f\"{name}_z\"].x,\n",
    "                f_vars[f\"{name}_y\"].x,\n",
    "            ),\n",
    "        )\n",
    "\n",
    "\n",
    "plot_graph(static_graph=G1, detected_graph=G2, name=\"qcqp3\", save=True)"
   ]
  },
  {
   "cell_type": "code",
   "execution_count": 23,
   "metadata": {},
   "outputs": [
    {
     "name": "stdout",
     "output_type": "stream",
     "text": [
      "Graph saved to qcqp1.html\n"
     ]
    }
   ],
   "source": [
    "G1 = nx.Graph()\n",
    "for i in range(len(static)):\n",
    "    G1.add_node(static[\"name\"][i], pos=(static[\"x\"][i], static[\"z\"][i], static[\"y\"][i]))\n",
    "for i in range(len(static)):\n",
    "    if static[\"parent\"][i] != 0 and static[\"parent\"][i] != \"0\":\n",
    "        G1.add_edge(static[\"name\"][i], static[\"parent\"][i])\n",
    "\n",
    "G2 = nx.Graph()\n",
    "for i in range(len(detected)):\n",
    "    G2.add_node(\n",
    "        str(detected[\"id\"][i]), pos=(detected[\"x\"][i], detected[\"z\"][i], detected[\"y\"][i])\n",
    "    )\n",
    "\n",
    "plot_graph(static_graph=G1, detected_graph=G2, name=\"qcqp1\", save=True)"
   ]
  }
 ],
 "metadata": {
  "kernelspec": {
   "display_name": ".venv",
   "language": "python",
   "name": "python3"
  },
  "language_info": {
   "codemirror_mode": {
    "name": "ipython",
    "version": 3
   },
   "file_extension": ".py",
   "mimetype": "text/x-python",
   "name": "python",
   "nbconvert_exporter": "python",
   "pygments_lexer": "ipython3",
   "version": "3.10.12"
  },
  "orig_nbformat": 4
 },
 "nbformat": 4,
 "nbformat_minor": 2
}
